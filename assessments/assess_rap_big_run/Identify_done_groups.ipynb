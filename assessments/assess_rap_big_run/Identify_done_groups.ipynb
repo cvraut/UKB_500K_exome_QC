{
 "cells": [
  {
   "cell_type": "markdown",
   "id": "d5430d53-ac72-4565-9749-2b1ea6f61263",
   "metadata": {},
   "source": [
    "# Identify Done Groups"
   ]
  },
  {
   "cell_type": "markdown",
   "id": "8848e627-6e5c-4018-b498-1d07bbfecbcd",
   "metadata": {},
   "source": [
    "So since the QC is taking a long time, I want to know which groups are done for record keeping & to ensure we don't run out of funds mid analysis & kill the project before we can get the results out."
   ]
  },
  {
   "cell_type": "markdown",
   "id": "fc33f3b3-eb2e-46b7-950c-bd46e7efee0b",
   "metadata": {},
   "source": [
    "# VCF file to group mapping"
   ]
  },
  {
   "cell_type": "code",
   "execution_count": 1,
   "id": "0272108e-573c-421e-8288-c47cc67765a4",
   "metadata": {
    "execution": {
     "iopub.execute_input": "2023-01-15T15:23:00.761052Z",
     "iopub.status.busy": "2023-01-15T15:23:00.760632Z",
     "iopub.status.idle": "2023-01-15T15:23:00.772892Z",
     "shell.execute_reply": "2023-01-15T15:23:00.772053Z",
     "shell.execute_reply.started": "2023-01-15T15:23:00.760967Z"
    },
    "tags": []
   },
   "outputs": [
    {
     "name": "stdout",
     "output_type": "stream",
     "text": [
      "'group_1' - 96 files\n",
      "'group_2' - 96 files\n",
      "'group_3' - 96 files\n",
      "'group_4' - 96 files\n",
      "'group_5' - 96 files\n",
      "'group_6' - 96 files\n",
      "'group_7' - 96 files\n",
      "'group_8' - 96 files\n",
      "'group_9' - 96 files\n",
      "'group_10' - 71 files\n"
     ]
    }
   ],
   "source": [
    "from collections import defaultdict\n",
    "\n",
    "group_to_files = defaultdict(set)\n",
    "with open(\"../../code/rap_specific/out.list\",\"r\") as f:\n",
    "    for line in f:\n",
    "        _,_,_,_,group,processed_fname = line.strip().split(\"/\")\n",
    "        group_to_files[group].add(processed_fname[:-1*len(\"_processed.txt\")])\n",
    "\n",
    "for group in group_to_files:\n",
    "    print(\"'{}' - {} files\".format(group,len(group_to_files[group])))"
   ]
  },
  {
   "cell_type": "code",
   "execution_count": 2,
   "id": "a81c1e38-1675-4e23-af4a-7ef8ac8b0b1f",
   "metadata": {
    "execution": {
     "iopub.execute_input": "2023-01-15T15:23:02.813781Z",
     "iopub.status.busy": "2023-01-15T15:23:02.813407Z",
     "iopub.status.idle": "2023-01-15T15:23:02.825785Z",
     "shell.execute_reply": "2023-01-15T15:23:02.825006Z",
     "shell.execute_reply.started": "2023-01-15T15:23:02.813753Z"
    },
    "tags": []
   },
   "outputs": [
    {
     "data": {
      "text/plain": [
       "935"
      ]
     },
     "execution_count": 2,
     "metadata": {},
     "output_type": "execute_result"
    }
   ],
   "source": [
    "file_to_group = {}\n",
    "for group in group_to_files:\n",
    "    for fname in group_to_files[group]:\n",
    "        file_to_group[fname] = group \n",
    "len(file_to_group)"
   ]
  },
  {
   "cell_type": "markdown",
   "id": "4ec0b091-fc7f-4e32-b351-d9b0637eafe0",
   "metadata": {
    "tags": []
   },
   "source": [
    "# \"Freeze 1\""
   ]
  },
  {
   "cell_type": "markdown",
   "id": "71e7feaa-1946-41f9-af0c-e050acd031a7",
   "metadata": {},
   "source": [
    "This is the ouput from 17 hours after the job was started. 96 files have been finished & I need to verify that these are all the group 1 files."
   ]
  },
  {
   "cell_type": "code",
   "execution_count": 3,
   "id": "06e10262-a613-443e-ac1c-85ed0e684a8c",
   "metadata": {
    "execution": {
     "iopub.execute_input": "2023-01-15T15:23:05.047778Z",
     "iopub.status.busy": "2023-01-15T15:23:05.047403Z",
     "iopub.status.idle": "2023-01-15T15:23:07.221345Z",
     "shell.execute_reply": "2023-01-15T15:23:07.220571Z",
     "shell.execute_reply.started": "2023-01-15T15:23:05.047750Z"
    },
    "tags": []
   },
   "outputs": [
    {
     "name": "stdout",
     "output_type": "stream",
     "text": [
      "group_1 is done!\n",
      "average time to complete 1 file is: 51125.01 seconds (14.20 hours)\n"
     ]
    }
   ],
   "source": [
    "import numpy as np\n",
    "# The format of the batch files is:\n",
    "# \"filename\" done\n",
    "# \\d+ seconds\n",
    "# ...\n",
    "# every 2 lines specify a file and completion time\n",
    "def get_done_groups(completed_batches_file = \"completed_batches_freeze_1.out\"):\n",
    "    done_files = {}\n",
    "    group_doneness = defaultdict(int)\n",
    "    with open(completed_batches_file,\"r\") as f:\n",
    "        for i,line in enumerate(f):\n",
    "            line,_ = line.strip().split()\n",
    "            if i%2 == 0:\n",
    "                _,_,_,_,fname = line.split(\"/\")\n",
    "            else:\n",
    "                seconds = int(line)\n",
    "                done_files[fname] = seconds\n",
    "                group_doneness[file_to_group[fname]] += 1\n",
    "    for group in group_doneness:\n",
    "        if group_doneness[group] == len(group_to_files[group]):\n",
    "            print(\"{} is done!\".format(group))\n",
    "        else:\n",
    "            print(\"{} is {:.2f}% done\".format(group,100*group_doneness[group]/len(group_to_files[group])))\n",
    "    avg_handle_time_secs = np.mean(list(done_files.values()))\n",
    "    print(\"average time to complete 1 file is: {:.2f} seconds ({:.2f} hours)\".format(avg_handle_time_secs,avg_handle_time_secs/60/60))\n",
    "\n",
    "get_done_groups()"
   ]
  },
  {
   "cell_type": "markdown",
   "id": "1e48ae0b-552f-4340-b02c-37afbebc92a6",
   "metadata": {
    "tags": []
   },
   "source": [
    "# \"Freeze 2\""
   ]
  },
  {
   "cell_type": "markdown",
   "id": "67a0688f-3bba-4cc2-b603-43474de334af",
   "metadata": {},
   "source": [
    "This is the ouput from 44 hours after the job was started. 300 files have been finished & I need to verify that these are all the group 2 & 3 files."
   ]
  },
  {
   "cell_type": "code",
   "execution_count": 4,
   "id": "1c8af4d7-d4a0-4105-83ac-188d0a66d902",
   "metadata": {
    "execution": {
     "iopub.execute_input": "2023-01-15T15:23:15.075299Z",
     "iopub.status.busy": "2023-01-15T15:23:15.074788Z",
     "iopub.status.idle": "2023-01-15T15:23:15.081748Z",
     "shell.execute_reply": "2023-01-15T15:23:15.080853Z",
     "shell.execute_reply.started": "2023-01-15T15:23:15.075250Z"
    },
    "tags": []
   },
   "outputs": [
    {
     "name": "stdout",
     "output_type": "stream",
     "text": [
      "group_1 is done!\n",
      "group_2 is done!\n",
      "group_3 is done!\n",
      "group_4 is 12.50% done\n",
      "average time to complete 1 file is: 43820.78 seconds (12.17 hours)\n"
     ]
    }
   ],
   "source": [
    "get_done_groups(\"completed_batches_freeze_2.out\")"
   ]
  },
  {
   "cell_type": "markdown",
   "id": "acb635bd-7e9f-4616-8df5-30838e6f2b7b",
   "metadata": {
    "tags": []
   },
   "source": [
    "# \"Freeze 3\""
   ]
  },
  {
   "cell_type": "markdown",
   "id": "0b6063e7-f14b-4ec1-978c-9b4648c86499",
   "metadata": {},
   "source": [
    "This is the ouput from 65 hours after the job was started. 498 files have been finished & I need to verify that these are all the group 4 & 5 files."
   ]
  },
  {
   "cell_type": "code",
   "execution_count": 5,
   "id": "9124c017-24df-464b-be43-976039e2acf2",
   "metadata": {
    "execution": {
     "iopub.execute_input": "2023-01-15T15:23:18.837794Z",
     "iopub.status.busy": "2023-01-15T15:23:18.837475Z",
     "iopub.status.idle": "2023-01-15T15:23:18.843811Z",
     "shell.execute_reply": "2023-01-15T15:23:18.842979Z",
     "shell.execute_reply.started": "2023-01-15T15:23:18.837765Z"
    },
    "tags": []
   },
   "outputs": [
    {
     "name": "stdout",
     "output_type": "stream",
     "text": [
      "group_1 is done!\n",
      "group_2 is done!\n",
      "group_3 is done!\n",
      "group_4 is done!\n",
      "group_5 is done!\n",
      "group_6 is 18.75% done\n",
      "average time to complete 1 file is: 42131.42 seconds (11.70 hours)\n"
     ]
    }
   ],
   "source": [
    "get_done_groups(\"completed_batches_freeze_3.out\")"
   ]
  }
 ],
 "metadata": {
  "kernelspec": {
   "display_name": "Python 3 (ipykernel)",
   "language": "python",
   "name": "python3"
  },
  "language_info": {
   "codemirror_mode": {
    "name": "ipython",
    "version": 3
   },
   "file_extension": ".py",
   "mimetype": "text/x-python",
   "name": "python",
   "nbconvert_exporter": "python",
   "pygments_lexer": "ipython3",
   "version": "3.9.13"
  }
 },
 "nbformat": 4,
 "nbformat_minor": 5
}
