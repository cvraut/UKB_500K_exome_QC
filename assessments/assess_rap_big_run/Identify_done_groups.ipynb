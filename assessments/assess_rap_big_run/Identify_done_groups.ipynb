{
 "cells": [
  {
   "cell_type": "markdown",
   "id": "d5430d53-ac72-4565-9749-2b1ea6f61263",
   "metadata": {},
   "source": [
    "# Identify Done Groups"
   ]
  },
  {
   "cell_type": "markdown",
   "id": "8848e627-6e5c-4018-b498-1d07bbfecbcd",
   "metadata": {},
   "source": [
    "So since the QC is taking a long time, I want to know which groups are done for record keeping & to ensure we don't run out of funds mid analysis & kill the project before we can get the results out."
   ]
  },
  {
   "cell_type": "markdown",
   "id": "fc33f3b3-eb2e-46b7-950c-bd46e7efee0b",
   "metadata": {},
   "source": [
    "# VCF file to group mapping"
   ]
  },
  {
   "cell_type": "code",
   "execution_count": 8,
   "id": "0272108e-573c-421e-8288-c47cc67765a4",
   "metadata": {
    "execution": {
     "iopub.execute_input": "2023-01-13T16:01:09.448347Z",
     "iopub.status.busy": "2023-01-13T16:01:09.448004Z",
     "iopub.status.idle": "2023-01-13T16:01:09.454616Z",
     "shell.execute_reply": "2023-01-13T16:01:09.454037Z",
     "shell.execute_reply.started": "2023-01-13T16:01:09.448323Z"
    },
    "tags": []
   },
   "outputs": [
    {
     "name": "stdout",
     "output_type": "stream",
     "text": [
      "'group_1' - 96 files\n",
      "'group_2' - 96 files\n",
      "'group_3' - 96 files\n",
      "'group_4' - 96 files\n",
      "'group_5' - 96 files\n",
      "'group_6' - 96 files\n",
      "'group_7' - 96 files\n",
      "'group_8' - 96 files\n",
      "'group_9' - 96 files\n",
      "'group_10' - 71 files\n"
     ]
    }
   ],
   "source": [
    "from collections import defaultdict\n",
    "\n",
    "group_to_files = defaultdict(set)\n",
    "with open(\"../../code/rap_specific/out.list\",\"r\") as f:\n",
    "    for line in f:\n",
    "        _,_,_,_,group,processed_fname = line.strip().split(\"/\")\n",
    "        group_to_files[group].add(processed_fname[:-1*len(\"_processed.txt\")])\n",
    "\n",
    "for group in group_to_files:\n",
    "    print(\"'{}' - {} files\".format(group,len(group_to_files[group])))"
   ]
  },
  {
   "cell_type": "code",
   "execution_count": 11,
   "id": "a81c1e38-1675-4e23-af4a-7ef8ac8b0b1f",
   "metadata": {
    "execution": {
     "iopub.execute_input": "2023-01-13T16:19:32.081531Z",
     "iopub.status.busy": "2023-01-13T16:19:32.081187Z",
     "iopub.status.idle": "2023-01-13T16:19:32.087058Z",
     "shell.execute_reply": "2023-01-13T16:19:32.086459Z",
     "shell.execute_reply.started": "2023-01-13T16:19:32.081506Z"
    },
    "tags": []
   },
   "outputs": [
    {
     "data": {
      "text/plain": [
       "935"
      ]
     },
     "execution_count": 11,
     "metadata": {},
     "output_type": "execute_result"
    }
   ],
   "source": [
    "file_to_group = {}\n",
    "for group in group_to_files:\n",
    "    for fname in group_to_files[group]:\n",
    "        file_to_group[fname] = group \n",
    "len(file_to_group)"
   ]
  },
  {
   "cell_type": "markdown",
   "id": "4ec0b091-fc7f-4e32-b351-d9b0637eafe0",
   "metadata": {},
   "source": [
    "# \"Freeze 1\""
   ]
  },
  {
   "cell_type": "markdown",
   "id": "71e7feaa-1946-41f9-af0c-e050acd031a7",
   "metadata": {},
   "source": [
    "This is the ouput from 17 hours after the job was started. 96 files have been finished & I need to verify that these are all the group 1 files."
   ]
  },
  {
   "cell_type": "code",
   "execution_count": 17,
   "id": "06e10262-a613-443e-ac1c-85ed0e684a8c",
   "metadata": {
    "execution": {
     "iopub.execute_input": "2023-01-13T16:24:54.425281Z",
     "iopub.status.busy": "2023-01-13T16:24:54.424984Z",
     "iopub.status.idle": "2023-01-13T16:24:54.432522Z",
     "shell.execute_reply": "2023-01-13T16:24:54.431867Z",
     "shell.execute_reply.started": "2023-01-13T16:24:54.425257Z"
    },
    "tags": []
   },
   "outputs": [
    {
     "name": "stdout",
     "output_type": "stream",
     "text": [
      "group_1 is done!\n",
      "average time to complete 1 file is: 51125.01 seconds (14.20 hours)\n"
     ]
    }
   ],
   "source": [
    "import numpy as np\n",
    "# The format of the batch files is:\n",
    "# \"filename\" done\n",
    "# \\d+ seconds\n",
    "# ...\n",
    "# every 2 lines specify a file and completion time\n",
    "def get_done_groups(completed_batches_file = \"completed_batches_freeze_1.out\"):\n",
    "    done_files = {}\n",
    "    group_doneness = defaultdict(int)\n",
    "    with open(completed_batches_file,\"r\") as f:\n",
    "        for i,line in enumerate(f):\n",
    "            line,_ = line.strip().split()\n",
    "            if i%2 == 0:\n",
    "                _,_,_,_,fname = line.split(\"/\")\n",
    "            else:\n",
    "                seconds = int(line)\n",
    "                done_files[fname] = seconds\n",
    "                group_doneness[file_to_group[fname]] += 1\n",
    "    for group in group_doneness:\n",
    "        if group_doneness[group] == len(group_to_files[group]):\n",
    "            print(\"{} is done!\".format(group))\n",
    "        else:\n",
    "            print(\"{} is {:.2f}% done\".format(group,100*group_doneness[group]/len(group_to_files[group])))\n",
    "    avg_handle_time_secs = np.mean(list(done_files.values()))\n",
    "    print(\"average time to complete 1 file is: {:.2f} seconds ({:.2f} hours)\".format(avg_handle_time_secs,avg_handle_time_secs/60/60))\n",
    "\n",
    "get_done_groups()"
   ]
  }
 ],
 "metadata": {
  "kernelspec": {
   "display_name": "Python 3 (ipykernel)",
   "language": "python",
   "name": "python3"
  },
  "language_info": {
   "codemirror_mode": {
    "name": "ipython",
    "version": 3
   },
   "file_extension": ".py",
   "mimetype": "text/x-python",
   "name": "python",
   "nbconvert_exporter": "python",
   "pygments_lexer": "ipython3",
   "version": "3.9.13"
  }
 },
 "nbformat": 4,
 "nbformat_minor": 5
}
