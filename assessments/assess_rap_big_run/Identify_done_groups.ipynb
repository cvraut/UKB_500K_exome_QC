{
 "cells": [
  {
   "cell_type": "markdown",
   "id": "d5430d53-ac72-4565-9749-2b1ea6f61263",
   "metadata": {},
   "source": [
    "# Identify Done Groups"
   ]
  },
  {
   "cell_type": "markdown",
   "id": "8848e627-6e5c-4018-b498-1d07bbfecbcd",
   "metadata": {},
   "source": [
    "So since the QC is taking a long time, I want to know which groups are done for record keeping & to ensure we don't run out of funds mid analysis & kill the project before we can get the results out."
   ]
  },
  {
   "cell_type": "markdown",
   "id": "fc33f3b3-eb2e-46b7-950c-bd46e7efee0b",
   "metadata": {},
   "source": [
    "# VCF file to group mapping"
   ]
  },
  {
   "cell_type": "code",
   "execution_count": 18,
   "id": "0272108e-573c-421e-8288-c47cc67765a4",
   "metadata": {
    "execution": {
     "iopub.execute_input": "2023-01-16T15:07:45.190933Z",
     "iopub.status.busy": "2023-01-16T15:07:45.190496Z",
     "iopub.status.idle": "2023-01-16T15:07:45.198692Z",
     "shell.execute_reply": "2023-01-16T15:07:45.197872Z",
     "shell.execute_reply.started": "2023-01-16T15:07:45.190903Z"
    },
    "tags": []
   },
   "outputs": [
    {
     "name": "stdout",
     "output_type": "stream",
     "text": [
      "'group_1' - 96 files\n",
      "'group_2' - 96 files\n",
      "'group_3' - 96 files\n",
      "'group_4' - 96 files\n",
      "'group_5' - 96 files\n",
      "'group_6' - 96 files\n",
      "'group_7' - 96 files\n",
      "'group_8' - 96 files\n",
      "'group_9' - 96 files\n",
      "'group_10' - 71 files\n"
     ]
    }
   ],
   "source": [
    "from collections import defaultdict\n",
    "\n",
    "group_to_files = defaultdict(set)\n",
    "with open(\"../../code/rap_specific/out.list\",\"r\") as f:\n",
    "    for line in f:\n",
    "        _,_,_,_,group,processed_fname = line.strip().split(\"/\")\n",
    "        group_to_files[group].add(processed_fname[:-1*len(\"_processed.txt\")])\n",
    "\n",
    "for group in group_to_files:\n",
    "    print(\"'{}' - {} files\".format(group,len(group_to_files[group])))"
   ]
  },
  {
   "cell_type": "code",
   "execution_count": 19,
   "id": "a81c1e38-1675-4e23-af4a-7ef8ac8b0b1f",
   "metadata": {
    "execution": {
     "iopub.execute_input": "2023-01-16T15:07:47.416413Z",
     "iopub.status.busy": "2023-01-16T15:07:47.416109Z",
     "iopub.status.idle": "2023-01-16T15:07:47.422426Z",
     "shell.execute_reply": "2023-01-16T15:07:47.421536Z",
     "shell.execute_reply.started": "2023-01-16T15:07:47.416386Z"
    },
    "tags": []
   },
   "outputs": [
    {
     "data": {
      "text/plain": [
       "935"
      ]
     },
     "execution_count": 19,
     "metadata": {},
     "output_type": "execute_result"
    }
   ],
   "source": [
    "file_to_group = {}\n",
    "for group in group_to_files:\n",
    "    for fname in group_to_files[group]:\n",
    "        file_to_group[fname] = group \n",
    "len(file_to_group)"
   ]
  },
  {
   "cell_type": "markdown",
   "id": "4ec0b091-fc7f-4e32-b351-d9b0637eafe0",
   "metadata": {
    "tags": []
   },
   "source": [
    "# \"Freeze 1\""
   ]
  },
  {
   "cell_type": "markdown",
   "id": "71e7feaa-1946-41f9-af0c-e050acd031a7",
   "metadata": {},
   "source": [
    "This is the ouput from 17 hours after the job was started. 96 files have been finished & I need to verify that these are all the group 1 files."
   ]
  },
  {
   "cell_type": "code",
   "execution_count": 20,
   "id": "06e10262-a613-443e-ac1c-85ed0e684a8c",
   "metadata": {
    "execution": {
     "iopub.execute_input": "2023-01-16T15:07:49.173611Z",
     "iopub.status.busy": "2023-01-16T15:07:49.173308Z",
     "iopub.status.idle": "2023-01-16T15:07:49.181396Z",
     "shell.execute_reply": "2023-01-16T15:07:49.180628Z",
     "shell.execute_reply.started": "2023-01-16T15:07:49.173587Z"
    },
    "tags": []
   },
   "outputs": [
    {
     "name": "stdout",
     "output_type": "stream",
     "text": [
      "group_1 is done!\n",
      "average time to complete 1 file is: 51125.01 seconds (14.20 hours)\n"
     ]
    }
   ],
   "source": [
    "import numpy as np\n",
    "# The format of the batch files is:\n",
    "# \"filename\" done\n",
    "# \\d+ seconds\n",
    "# ...\n",
    "# every 2 lines specify a file and completion time\n",
    "def get_done_groups(completed_batches_file = \"completed_batches_freeze_1.out\"):\n",
    "    done_files = {}\n",
    "    group_doneness = defaultdict(int)\n",
    "    with open(completed_batches_file,\"r\") as f:\n",
    "        for i,line in enumerate(f):\n",
    "            line,_ = line.strip().split()\n",
    "            if i%2 == 0:\n",
    "                _,_,_,_,fname = line.split(\"/\")\n",
    "            else:\n",
    "                seconds = int(line)\n",
    "                done_files[fname] = seconds\n",
    "                group_doneness[file_to_group[fname]] += 1\n",
    "    for group in group_doneness:\n",
    "        if group_doneness[group] == len(group_to_files[group]):\n",
    "            print(\"{} is done!\".format(group))\n",
    "        else:\n",
    "            print(\"{} is {:.2f}% done\".format(group,100*group_doneness[group]/len(group_to_files[group])))\n",
    "    avg_handle_time_secs = np.mean(list(done_files.values()))\n",
    "    print(\"average time to complete 1 file is: {:.2f} seconds ({:.2f} hours)\".format(avg_handle_time_secs,avg_handle_time_secs/60/60))\n",
    "\n",
    "get_done_groups()"
   ]
  },
  {
   "cell_type": "markdown",
   "id": "1e48ae0b-552f-4340-b02c-37afbebc92a6",
   "metadata": {
    "tags": []
   },
   "source": [
    "# \"Freeze 2\""
   ]
  },
  {
   "cell_type": "markdown",
   "id": "67a0688f-3bba-4cc2-b603-43474de334af",
   "metadata": {},
   "source": [
    "This is the ouput from 44 hours after the job was started. 300 files have been finished & I need to verify that these are all the group 2 & 3 files."
   ]
  },
  {
   "cell_type": "code",
   "execution_count": 21,
   "id": "1c8af4d7-d4a0-4105-83ac-188d0a66d902",
   "metadata": {
    "execution": {
     "iopub.execute_input": "2023-01-16T15:07:51.693032Z",
     "iopub.status.busy": "2023-01-16T15:07:51.692685Z",
     "iopub.status.idle": "2023-01-16T15:07:51.698855Z",
     "shell.execute_reply": "2023-01-16T15:07:51.698042Z",
     "shell.execute_reply.started": "2023-01-16T15:07:51.693003Z"
    },
    "tags": []
   },
   "outputs": [
    {
     "name": "stdout",
     "output_type": "stream",
     "text": [
      "group_1 is done!\n",
      "group_2 is done!\n",
      "group_3 is done!\n",
      "group_4 is 12.50% done\n",
      "average time to complete 1 file is: 43820.78 seconds (12.17 hours)\n"
     ]
    }
   ],
   "source": [
    "get_done_groups(\"completed_batches_freeze_2.out\")"
   ]
  },
  {
   "cell_type": "markdown",
   "id": "acb635bd-7e9f-4616-8df5-30838e6f2b7b",
   "metadata": {
    "tags": []
   },
   "source": [
    "# \"Freeze 3\""
   ]
  },
  {
   "cell_type": "markdown",
   "id": "0b6063e7-f14b-4ec1-978c-9b4648c86499",
   "metadata": {},
   "source": [
    "This is the ouput from 65 hours after the job was started. 498 files have been finished & I need to verify that these are all the group 4 & 5 files."
   ]
  },
  {
   "cell_type": "code",
   "execution_count": 22,
   "id": "9124c017-24df-464b-be43-976039e2acf2",
   "metadata": {
    "execution": {
     "iopub.execute_input": "2023-01-16T15:07:56.685584Z",
     "iopub.status.busy": "2023-01-16T15:07:56.685291Z",
     "iopub.status.idle": "2023-01-16T15:07:56.691368Z",
     "shell.execute_reply": "2023-01-16T15:07:56.690508Z",
     "shell.execute_reply.started": "2023-01-16T15:07:56.685558Z"
    },
    "tags": []
   },
   "outputs": [
    {
     "name": "stdout",
     "output_type": "stream",
     "text": [
      "group_1 is done!\n",
      "group_2 is done!\n",
      "group_3 is done!\n",
      "group_4 is done!\n",
      "group_5 is done!\n",
      "group_6 is 18.75% done\n",
      "average time to complete 1 file is: 42131.42 seconds (11.70 hours)\n"
     ]
    }
   ],
   "source": [
    "get_done_groups(\"completed_batches_freeze_3.out\")"
   ]
  },
  {
   "cell_type": "markdown",
   "id": "c7275db3-0efa-4548-8d82-67e33d434a71",
   "metadata": {
    "tags": []
   },
   "source": [
    "# \"Freeze 4\""
   ]
  },
  {
   "cell_type": "markdown",
   "id": "2ebb0816-fee7-4dba-b886-43a2dab74d25",
   "metadata": {},
   "source": [
    "This is the ouput from 89 hours after the job was started. 702 files have been finished & I need to verify that these are all the group 6 & 7 files."
   ]
  },
  {
   "cell_type": "code",
   "execution_count": 23,
   "id": "3bb1e40f-cfdc-451f-875e-6cd6c273a9a4",
   "metadata": {
    "execution": {
     "iopub.execute_input": "2023-01-16T15:08:00.105258Z",
     "iopub.status.busy": "2023-01-16T15:08:00.104864Z",
     "iopub.status.idle": "2023-01-16T15:08:00.111831Z",
     "shell.execute_reply": "2023-01-16T15:08:00.110927Z",
     "shell.execute_reply.started": "2023-01-16T15:08:00.105227Z"
    },
    "tags": []
   },
   "outputs": [
    {
     "name": "stdout",
     "output_type": "stream",
     "text": [
      "group_1 is done!\n",
      "group_2 is done!\n",
      "group_3 is done!\n",
      "group_4 is done!\n",
      "group_5 is done!\n",
      "group_6 is done!\n",
      "group_7 is done!\n",
      "group_8 is 31.25% done\n",
      "average time to complete 1 file is: 41454.47 seconds (11.52 hours)\n"
     ]
    }
   ],
   "source": [
    "get_done_groups(\"completed_batches_freeze_4.out\")"
   ]
  },
  {
   "cell_type": "markdown",
   "id": "0c438a25-352d-48fb-b287-07fa9e2b9eef",
   "metadata": {
    "tags": []
   },
   "source": [
    "# \"Freeze 5\""
   ]
  },
  {
   "cell_type": "markdown",
   "id": "37991948-45c3-44eb-9943-0f37928958b0",
   "metadata": {},
   "source": [
    "This is the ouput from right after the job ended. 935 files have been finished & I need to verify that these are all the group files."
   ]
  },
  {
   "cell_type": "code",
   "execution_count": 24,
   "id": "f03c8d51-6b6e-4277-87e3-614c6ed8ccd4",
   "metadata": {
    "execution": {
     "iopub.execute_input": "2023-01-17T18:02:33.840511Z",
     "iopub.status.busy": "2023-01-17T18:02:33.840071Z",
     "iopub.status.idle": "2023-01-17T18:02:33.848410Z",
     "shell.execute_reply": "2023-01-17T18:02:33.847445Z",
     "shell.execute_reply.started": "2023-01-17T18:02:33.840477Z"
    },
    "tags": []
   },
   "outputs": [
    {
     "name": "stdout",
     "output_type": "stream",
     "text": [
      "group_1 is done!\n",
      "group_2 is done!\n",
      "group_3 is done!\n",
      "group_4 is done!\n",
      "group_5 is done!\n",
      "group_6 is done!\n",
      "group_7 is done!\n",
      "group_8 is done!\n",
      "group_9 is done!\n",
      "group_10 is done!\n",
      "average time to complete 1 file is: 40930.48 seconds (11.37 hours)\n"
     ]
    }
   ],
   "source": [
    "get_done_groups(\"completed_batches_freeze_5.out\")"
   ]
  }
 ],
 "metadata": {
  "kernelspec": {
   "display_name": "Python 3 (ipykernel)",
   "language": "python",
   "name": "python3"
  },
  "language_info": {
   "codemirror_mode": {
    "name": "ipython",
    "version": 3
   },
   "file_extension": ".py",
   "mimetype": "text/x-python",
   "name": "python",
   "nbconvert_exporter": "python",
   "pygments_lexer": "ipython3",
   "version": "3.9.13"
  }
 },
 "nbformat": 4,
 "nbformat_minor": 5
}
