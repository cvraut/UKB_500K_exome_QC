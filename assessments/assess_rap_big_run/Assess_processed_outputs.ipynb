{
 "cells": [
  {
   "cell_type": "markdown",
   "id": "338a1c71-8b22-409e-9258-471c6849425c",
   "metadata": {},
   "source": [
    "# Assess Processed Outputs"
   ]
  },
  {
   "cell_type": "markdown",
   "id": "4fcfdc82-c7fe-4481-b20f-213a4b50e926",
   "metadata": {},
   "source": [
    "Process results from RAP and see variant retention and read depth and allelic balance."
   ]
  },
  {
   "cell_type": "markdown",
   "id": "a4e10a7a-4dc7-4fbf-b2b0-f70ed848d3ea",
   "metadata": {},
   "source": [
    "# imports, globals, and data"
   ]
  },
  {
   "cell_type": "code",
   "execution_count": 2,
   "id": "c1a3034a-d4c1-410b-b0ae-f2d447ccf971",
   "metadata": {
    "execution": {
     "iopub.execute_input": "2023-01-13T16:42:18.143969Z",
     "iopub.status.busy": "2023-01-13T16:42:18.143508Z",
     "iopub.status.idle": "2023-01-13T16:42:18.149567Z",
     "shell.execute_reply": "2023-01-13T16:42:18.148700Z",
     "shell.execute_reply.started": "2023-01-13T16:42:18.143923Z"
    },
    "tags": []
   },
   "outputs": [],
   "source": [
    "import pandas as pd\n",
    "import numpy as np\n",
    "DATA_OUT = \"/mnt/speliotes-lab/Projects/UK_ATLAS/IndivProj/craut/UKB_500K_exome_QC/\"\n",
    "rap_output_files = \"{}rap_runs/{}/\".format(DATA_OUT,\"{}\")\n",
    "GROUPS = [\"group_{}\".format(i) for i in range(1,10+1)]\n",
    "from glob import glob"
   ]
  },
  {
   "cell_type": "markdown",
   "id": "f71068cd-5355-40d2-a6e0-70ce7f79af73",
   "metadata": {},
   "source": [
    "# Process Results"
   ]
  },
  {
   "cell_type": "code",
   "execution_count": 9,
   "id": "7c860a02-73e4-48bb-8deb-ae1454c39858",
   "metadata": {
    "execution": {
     "iopub.execute_input": "2023-01-13T18:03:28.672808Z",
     "iopub.status.busy": "2023-01-13T18:03:28.672469Z",
     "iopub.status.idle": "2023-01-13T18:03:35.071914Z",
     "shell.execute_reply": "2023-01-13T18:03:35.071196Z",
     "shell.execute_reply.started": "2023-01-13T18:03:28.672786Z"
    },
    "tags": []
   },
   "outputs": [
    {
     "name": "stdout",
     "output_type": "stream",
     "text": [
      "(3129424, 3)\n"
     ]
    },
    {
     "data": {
      "text/html": [
       "<div>\n",
       "<style scoped>\n",
       "    .dataframe tbody tr th:only-of-type {\n",
       "        vertical-align: middle;\n",
       "    }\n",
       "\n",
       "    .dataframe tbody tr th {\n",
       "        vertical-align: top;\n",
       "    }\n",
       "\n",
       "    .dataframe thead th {\n",
       "        text-align: right;\n",
       "    }\n",
       "</style>\n",
       "<table border=\"1\" class=\"dataframe\">\n",
       "  <thead>\n",
       "    <tr style=\"text-align: right;\">\n",
       "      <th></th>\n",
       "      <th>snpid</th>\n",
       "      <th>rd_10</th>\n",
       "      <th>ab</th>\n",
       "    </tr>\n",
       "  </thead>\n",
       "  <tbody>\n",
       "    <tr>\n",
       "      <th>0</th>\n",
       "      <td>chr11_6410531_C_G</td>\n",
       "      <td>0.0</td>\n",
       "      <td>0.000000</td>\n",
       "    </tr>\n",
       "    <tr>\n",
       "      <th>1</th>\n",
       "      <td>chr11_6410534_A_G</td>\n",
       "      <td>0.0</td>\n",
       "      <td>0.000000</td>\n",
       "    </tr>\n",
       "    <tr>\n",
       "      <th>2</th>\n",
       "      <td>chr11_6410536_C_T</td>\n",
       "      <td>6.0</td>\n",
       "      <td>0.222222</td>\n",
       "    </tr>\n",
       "    <tr>\n",
       "      <th>3</th>\n",
       "      <td>chr11_6410540_C_T</td>\n",
       "      <td>7.0</td>\n",
       "      <td>0.181818</td>\n",
       "    </tr>\n",
       "    <tr>\n",
       "      <th>4</th>\n",
       "      <td>chr11_6410543_C_G</td>\n",
       "      <td>7.0</td>\n",
       "      <td>0.470588</td>\n",
       "    </tr>\n",
       "  </tbody>\n",
       "</table>\n",
       "</div>"
      ],
      "text/plain": [
       "               snpid  rd_10        ab\n",
       "0  chr11_6410531_C_G    0.0  0.000000\n",
       "1  chr11_6410534_A_G    0.0  0.000000\n",
       "2  chr11_6410536_C_T    6.0  0.222222\n",
       "3  chr11_6410540_C_T    7.0  0.181818\n",
       "4  chr11_6410543_C_G    7.0  0.470588"
      ]
     },
     "execution_count": 9,
     "metadata": {},
     "output_type": "execute_result"
    }
   ],
   "source": [
    "new_data_list = []\n",
    "for dname in glob(rap_output_files[:-3]+\"*\"):\n",
    "    if \".\" not in dname:\n",
    "        for fname in glob(dname+\"/*\"):\n",
    "            with open(fname, \"r\") as f:\n",
    "                for line in f:\n",
    "                    line = line.strip().split()\n",
    "                    for snp in line[0].split(\";\"):\n",
    "                        new_data_list.append({\"snpid\":snp,\n",
    "                                              \"rd_10\":float(line[1]),\n",
    "                                              \"ab\":float(line[2])})\n",
    "new_data_df = pd.DataFrame(new_data_list)\n",
    "print(new_data_df.shape)\n",
    "new_data_df.head()"
   ]
  },
  {
   "cell_type": "code",
   "execution_count": 10,
   "id": "7bd03dc8-dd6a-4a6a-81f5-982ea4b6635f",
   "metadata": {
    "execution": {
     "iopub.execute_input": "2023-01-13T18:03:40.877259Z",
     "iopub.status.busy": "2023-01-13T18:03:40.876896Z",
     "iopub.status.idle": "2023-01-13T18:03:42.800463Z",
     "shell.execute_reply": "2023-01-13T18:03:42.799528Z",
     "shell.execute_reply.started": "2023-01-13T18:03:40.877203Z"
    },
    "tags": []
   },
   "outputs": [
    {
     "name": "stdout",
     "output_type": "stream",
     "text": [
      "2769156 3129424 0.8848772170214071\n"
     ]
    }
   ],
   "source": [
    "# 10%_read_depth\n",
    "indel_mask = np.array([bool(snp[-2] != \"_\" or snp[-4] != \"_\") for snp in new_data_df.snpid])\n",
    "rd_mask = np.array([rd >= (10 if indel else 7) for indel,rd in zip(indel_mask,new_data_df.rd_10)])\n",
    "ab_mask = np.array([ab >= (0.2 if indel else 0.15) for indel,ab in zip(indel_mask,new_data_df.ab)])\n",
    "rd10_mask = rd_mask & ab_mask\n",
    "print(np.sum(rd10_mask),len(rd10_mask),np.sum(rd10_mask)/len(rd10_mask))"
   ]
  }
 ],
 "metadata": {
  "kernelspec": {
   "display_name": "Python 3 (ipykernel)",
   "language": "python",
   "name": "python3"
  },
  "language_info": {
   "codemirror_mode": {
    "name": "ipython",
    "version": 3
   },
   "file_extension": ".py",
   "mimetype": "text/x-python",
   "name": "python",
   "nbconvert_exporter": "python",
   "pygments_lexer": "ipython3",
   "version": "3.9.13"
  }
 },
 "nbformat": 4,
 "nbformat_minor": 5
}
