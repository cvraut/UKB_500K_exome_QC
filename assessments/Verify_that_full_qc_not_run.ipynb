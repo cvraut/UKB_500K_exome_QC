{
 "cells": [
  {
   "cell_type": "markdown",
   "id": "75821f54-d807-4d6b-ad45-ca5bd7608751",
   "metadata": {},
   "source": [
    "# Verify that full QC was not run"
   ]
  },
  {
   "cell_type": "markdown",
   "id": "9b20d32f-610b-4f08-8265-57a357a43bb8",
   "metadata": {},
   "source": [
    "So we do not know to what extent the QC procedure was run through as some filters seem to have been applied.\n",
    "\n",
    "Since I already computed the allele counts for the bgen data I would like to check if the variant missingness filter had been applied. I can check if there are any variants missing from more than 10% of haplotypes."
   ]
  },
  {
   "cell_type": "code",
   "execution_count": 1,
   "id": "b8bcc94c-ebdb-4e4b-a13a-2ddd19b20578",
   "metadata": {
    "execution": {
     "iopub.execute_input": "2022-10-25T16:20:08.651805Z",
     "iopub.status.busy": "2022-10-25T16:20:08.651375Z",
     "iopub.status.idle": "2022-10-25T16:20:11.282673Z",
     "shell.execute_reply": "2022-10-25T16:20:11.281923Z",
     "shell.execute_reply.started": "2022-10-25T16:20:08.651724Z"
    },
    "tags": []
   },
   "outputs": [],
   "source": [
    "PROJECT_LOC=\"~/wkspce/UKBB_500k_exome/\"\n",
    "RAND_SEED=19890418\n",
    "DATA_OUT=\"/mnt/speliotes-lab/Projects/UK_ATLAS/IndivProj/craut/UKBB_500k_exome/\"\n",
    "DATA_IN=\"/mnt/speliotes-lab/Projects/UK_ATLAS/GENODATA/Exomechip_10_13_2022/BGEN/\"\n",
    "\n",
    "import pandas as pd\n",
    "import numpy as np\n",
    "import seaborn as sns\n",
    "from collections import Counter\n",
    "\n",
    "np.random.seed(RAND_SEED)\n",
    "\n",
    "plink_chr_ac = [8,21,22]\n",
    "CHROMOS = list(range(1,22+1))"
   ]
  },
  {
   "cell_type": "code",
   "execution_count": 2,
   "id": "dae9277c-4760-40cb-83f2-72119ed0dae6",
   "metadata": {
    "execution": {
     "iopub.execute_input": "2022-10-25T16:20:11.284208Z",
     "iopub.status.busy": "2022-10-25T16:20:11.283874Z",
     "iopub.status.idle": "2022-10-25T16:20:48.985582Z",
     "shell.execute_reply": "2022-10-25T16:20:48.984593Z",
     "shell.execute_reply.started": "2022-10-25T16:20:11.284186Z"
    },
    "tags": []
   },
   "outputs": [
    {
     "name": "stdout",
     "output_type": "stream",
     "text": [
      "(26388327, 10)\n"
     ]
    },
    {
     "data": {
      "text/html": [
       "<div>\n",
       "<style scoped>\n",
       "    .dataframe tbody tr th:only-of-type {\n",
       "        vertical-align: middle;\n",
       "    }\n",
       "\n",
       "    .dataframe tbody tr th {\n",
       "        vertical-align: top;\n",
       "    }\n",
       "\n",
       "    .dataframe thead th {\n",
       "        text-align: right;\n",
       "    }\n",
       "</style>\n",
       "<table border=\"1\" class=\"dataframe\">\n",
       "  <thead>\n",
       "    <tr style=\"text-align: right;\">\n",
       "      <th></th>\n",
       "      <th>#CHROM</th>\n",
       "      <th>ID</th>\n",
       "      <th>REF</th>\n",
       "      <th>ALT</th>\n",
       "      <th>HOM_REF_CT</th>\n",
       "      <th>HET_REF_ALT_CTS</th>\n",
       "      <th>TWO_ALT_GENO_CTS</th>\n",
       "      <th>HAP_REF_CT</th>\n",
       "      <th>HAP_ALT_CTS</th>\n",
       "      <th>MISSING_CT</th>\n",
       "    </tr>\n",
       "  </thead>\n",
       "  <tbody>\n",
       "    <tr>\n",
       "      <th>0</th>\n",
       "      <td>1</td>\n",
       "      <td>1:69026:T:G</td>\n",
       "      <td>T</td>\n",
       "      <td>G</td>\n",
       "      <td>469630</td>\n",
       "      <td>2</td>\n",
       "      <td>0</td>\n",
       "      <td>0</td>\n",
       "      <td>0</td>\n",
       "      <td>203</td>\n",
       "    </tr>\n",
       "    <tr>\n",
       "      <th>1</th>\n",
       "      <td>1</td>\n",
       "      <td>1:69081:G:C</td>\n",
       "      <td>G</td>\n",
       "      <td>C</td>\n",
       "      <td>462237</td>\n",
       "      <td>2438</td>\n",
       "      <td>177</td>\n",
       "      <td>0</td>\n",
       "      <td>0</td>\n",
       "      <td>4983</td>\n",
       "    </tr>\n",
       "    <tr>\n",
       "      <th>2</th>\n",
       "      <td>1</td>\n",
       "      <td>1:69095:T:G</td>\n",
       "      <td>T</td>\n",
       "      <td>G</td>\n",
       "      <td>469266</td>\n",
       "      <td>2</td>\n",
       "      <td>0</td>\n",
       "      <td>0</td>\n",
       "      <td>0</td>\n",
       "      <td>567</td>\n",
       "    </tr>\n",
       "    <tr>\n",
       "      <th>3</th>\n",
       "      <td>1</td>\n",
       "      <td>1:69134:A:G</td>\n",
       "      <td>A</td>\n",
       "      <td>G</td>\n",
       "      <td>467530</td>\n",
       "      <td>227</td>\n",
       "      <td>7</td>\n",
       "      <td>0</td>\n",
       "      <td>0</td>\n",
       "      <td>2071</td>\n",
       "    </tr>\n",
       "    <tr>\n",
       "      <th>4</th>\n",
       "      <td>1</td>\n",
       "      <td>1:69144:C:T</td>\n",
       "      <td>C</td>\n",
       "      <td>T</td>\n",
       "      <td>468214</td>\n",
       "      <td>2</td>\n",
       "      <td>0</td>\n",
       "      <td>0</td>\n",
       "      <td>0</td>\n",
       "      <td>1619</td>\n",
       "    </tr>\n",
       "    <tr>\n",
       "      <th>...</th>\n",
       "      <td>...</td>\n",
       "      <td>...</td>\n",
       "      <td>...</td>\n",
       "      <td>...</td>\n",
       "      <td>...</td>\n",
       "      <td>...</td>\n",
       "      <td>...</td>\n",
       "      <td>...</td>\n",
       "      <td>...</td>\n",
       "      <td>...</td>\n",
       "    </tr>\n",
       "    <tr>\n",
       "      <th>613848</th>\n",
       "      <td>22</td>\n",
       "      <td>22:50782393:C:T</td>\n",
       "      <td>C</td>\n",
       "      <td>T</td>\n",
       "      <td>469692</td>\n",
       "      <td>2</td>\n",
       "      <td>0</td>\n",
       "      <td>0</td>\n",
       "      <td>0</td>\n",
       "      <td>141</td>\n",
       "    </tr>\n",
       "    <tr>\n",
       "      <th>613849</th>\n",
       "      <td>22</td>\n",
       "      <td>22:50782396:A:C</td>\n",
       "      <td>A</td>\n",
       "      <td>C</td>\n",
       "      <td>469584</td>\n",
       "      <td>7</td>\n",
       "      <td>2</td>\n",
       "      <td>0</td>\n",
       "      <td>0</td>\n",
       "      <td>242</td>\n",
       "    </tr>\n",
       "    <tr>\n",
       "      <th>613850</th>\n",
       "      <td>22</td>\n",
       "      <td>22:50782398:C:T</td>\n",
       "      <td>C</td>\n",
       "      <td>T</td>\n",
       "      <td>469667</td>\n",
       "      <td>2</td>\n",
       "      <td>1</td>\n",
       "      <td>0</td>\n",
       "      <td>0</td>\n",
       "      <td>165</td>\n",
       "    </tr>\n",
       "    <tr>\n",
       "      <th>613851</th>\n",
       "      <td>22</td>\n",
       "      <td>22:50782404:C:A</td>\n",
       "      <td>C</td>\n",
       "      <td>A</td>\n",
       "      <td>469742</td>\n",
       "      <td>4</td>\n",
       "      <td>0</td>\n",
       "      <td>0</td>\n",
       "      <td>0</td>\n",
       "      <td>89</td>\n",
       "    </tr>\n",
       "    <tr>\n",
       "      <th>613852</th>\n",
       "      <td>22</td>\n",
       "      <td>22:50782407:C:T</td>\n",
       "      <td>C</td>\n",
       "      <td>T</td>\n",
       "      <td>469710</td>\n",
       "      <td>0</td>\n",
       "      <td>1</td>\n",
       "      <td>0</td>\n",
       "      <td>0</td>\n",
       "      <td>124</td>\n",
       "    </tr>\n",
       "  </tbody>\n",
       "</table>\n",
       "<p>26388327 rows × 10 columns</p>\n",
       "</div>"
      ],
      "text/plain": [
       "        #CHROM               ID REF ALT  HOM_REF_CT  HET_REF_ALT_CTS  \\\n",
       "0            1      1:69026:T:G   T   G      469630                2   \n",
       "1            1      1:69081:G:C   G   C      462237             2438   \n",
       "2            1      1:69095:T:G   T   G      469266                2   \n",
       "3            1      1:69134:A:G   A   G      467530              227   \n",
       "4            1      1:69144:C:T   C   T      468214                2   \n",
       "...        ...              ...  ..  ..         ...              ...   \n",
       "613848      22  22:50782393:C:T   C   T      469692                2   \n",
       "613849      22  22:50782396:A:C   A   C      469584                7   \n",
       "613850      22  22:50782398:C:T   C   T      469667                2   \n",
       "613851      22  22:50782404:C:A   C   A      469742                4   \n",
       "613852      22  22:50782407:C:T   C   T      469710                0   \n",
       "\n",
       "        TWO_ALT_GENO_CTS  HAP_REF_CT  HAP_ALT_CTS  MISSING_CT  \n",
       "0                      0           0            0         203  \n",
       "1                    177           0            0        4983  \n",
       "2                      0           0            0         567  \n",
       "3                      7           0            0        2071  \n",
       "4                      0           0            0        1619  \n",
       "...                  ...         ...          ...         ...  \n",
       "613848                 0           0            0         141  \n",
       "613849                 2           0            0         242  \n",
       "613850                 1           0            0         165  \n",
       "613851                 0           0            0          89  \n",
       "613852                 1           0            0         124  \n",
       "\n",
       "[26388327 rows x 10 columns]"
      ]
     },
     "execution_count": 2,
     "metadata": {},
     "output_type": "execute_result"
    }
   ],
   "source": [
    "all_counts = pd.DataFrame()\n",
    "for chrom in CHROMOS:\n",
    "    bgen_cnts = pd.read_table(DATA_OUT+\"bgen_allele_counts_take2/chr{}/ukbb_500k_exome.gcount\".format(chrom))\n",
    "    if all_counts.empty:\n",
    "        all_counts = bgen_cnts\n",
    "    else:\n",
    "        all_counts = pd.concat([all_counts, bgen_cnts])\n",
    "print(all_counts.shape)\n",
    "all_counts"
   ]
  },
  {
   "cell_type": "code",
   "execution_count": 3,
   "id": "5055820f-fea1-4282-ac55-9958295bbe8f",
   "metadata": {
    "execution": {
     "iopub.execute_input": "2022-10-25T16:20:48.987248Z",
     "iopub.status.busy": "2022-10-25T16:20:48.986946Z",
     "iopub.status.idle": "2022-10-25T16:20:50.374969Z",
     "shell.execute_reply": "2022-10-25T16:20:50.374115Z",
     "shell.execute_reply.started": "2022-10-25T16:20:48.987218Z"
    },
    "tags": []
   },
   "outputs": [],
   "source": [
    "df = all_counts[[\"HOM_REF_CT\",\"HET_REF_ALT_CTS\",\"TWO_ALT_GENO_CTS\",\"MISSING_CT\"]]"
   ]
  },
  {
   "cell_type": "code",
   "execution_count": 4,
   "id": "9da0232f-fb60-4efe-b1c9-d5da8e3dba57",
   "metadata": {
    "execution": {
     "iopub.execute_input": "2022-10-25T16:20:50.377732Z",
     "iopub.status.busy": "2022-10-25T16:20:50.377430Z",
     "iopub.status.idle": "2022-10-25T16:20:50.618966Z",
     "shell.execute_reply": "2022-10-25T16:20:50.618203Z",
     "shell.execute_reply.started": "2022-10-25T16:20:50.377702Z"
    },
    "tags": []
   },
   "outputs": [],
   "source": [
    "n_ind = df.sum(axis=1)"
   ]
  },
  {
   "cell_type": "code",
   "execution_count": 5,
   "id": "0107751c-fd29-40ac-8bf5-f9c6817067b7",
   "metadata": {
    "execution": {
     "iopub.execute_input": "2022-10-25T16:20:50.620345Z",
     "iopub.status.busy": "2022-10-25T16:20:50.620062Z",
     "iopub.status.idle": "2022-10-25T16:20:52.432589Z",
     "shell.execute_reply": "2022-10-25T16:20:52.431707Z",
     "shell.execute_reply.started": "2022-10-25T16:20:50.620317Z"
    },
    "tags": []
   },
   "outputs": [
    {
     "data": {
      "text/plain": [
       "{469835}"
      ]
     },
     "execution_count": 5,
     "metadata": {},
     "output_type": "execute_result"
    }
   ],
   "source": [
    "set(n_ind)"
   ]
  },
  {
   "cell_type": "code",
   "execution_count": 6,
   "id": "f1403bd8-61b1-4ec1-980c-3987254b7d4c",
   "metadata": {
    "execution": {
     "iopub.execute_input": "2022-10-25T16:20:52.434234Z",
     "iopub.status.busy": "2022-10-25T16:20:52.433917Z",
     "iopub.status.idle": "2022-10-25T16:20:52.448145Z",
     "shell.execute_reply": "2022-10-25T16:20:52.447506Z",
     "shell.execute_reply.started": "2022-10-25T16:20:52.434203Z"
    },
    "tags": []
   },
   "outputs": [],
   "source": [
    "num_ind = 469835\n",
    "num_hap = num_ind*2"
   ]
  },
  {
   "cell_type": "code",
   "execution_count": 7,
   "id": "d3d8435e-4ce9-4e40-b203-3b6dd9c51328",
   "metadata": {
    "execution": {
     "iopub.execute_input": "2022-10-25T16:20:52.449737Z",
     "iopub.status.busy": "2022-10-25T16:20:52.449156Z",
     "iopub.status.idle": "2022-10-25T16:20:55.755785Z",
     "shell.execute_reply": "2022-10-25T16:20:55.755004Z",
     "shell.execute_reply.started": "2022-10-25T16:20:52.449706Z"
    },
    "tags": []
   },
   "outputs": [],
   "source": [
    "missing_prop = [m/num_ind for m in all_counts.MISSING_CT]"
   ]
  },
  {
   "cell_type": "code",
   "execution_count": 12,
   "id": "3cfc47d1-a3f1-4c69-867f-6487cfab4c0d",
   "metadata": {
    "execution": {
     "iopub.execute_input": "2022-10-25T16:43:28.627068Z",
     "iopub.status.busy": "2022-10-25T16:43:28.626714Z",
     "iopub.status.idle": "2022-10-25T16:50:49.515195Z",
     "shell.execute_reply": "2022-10-25T16:50:49.514428Z",
     "shell.execute_reply.started": "2022-10-25T16:43:28.627045Z"
    },
    "tags": []
   },
   "outputs": [
    {
     "data": {
      "text/plain": [
       "<AxesSubplot: ylabel='Count'>"
      ]
     },
     "execution_count": 12,
     "metadata": {},
     "output_type": "execute_result"
    },
    {
     "data": {
      "image/png": "[encoded data removed]",
      "text/plain": [
       "<Figure size 640x480 with 1 Axes>"
      ]
     },
     "metadata": {},
     "output_type": "display_data"
    }
   ],
   "source": [
    "sns.histplot(missing_prop)"
   ]
  },
  {
   "cell_type": "code",
   "execution_count": 8,
   "id": "9e2af82f-5c53-490e-93b6-d1927bbb4dfb",
   "metadata": {
    "execution": {
     "iopub.execute_input": "2022-10-25T16:20:55.757242Z",
     "iopub.status.busy": "2022-10-25T16:20:55.756942Z",
     "iopub.status.idle": "2022-10-25T16:20:58.915521Z",
     "shell.execute_reply": "2022-10-25T16:20:58.914448Z",
     "shell.execute_reply.started": "2022-10-25T16:20:55.757213Z"
    },
    "tags": []
   },
   "outputs": [],
   "source": [
    "missing_prop.sort()"
   ]
  },
  {
   "cell_type": "code",
   "execution_count": 9,
   "id": "c90b51d1-8870-421a-a581-f748faf025a6",
   "metadata": {
    "execution": {
     "iopub.execute_input": "2022-10-25T16:20:58.917389Z",
     "iopub.status.busy": "2022-10-25T16:20:58.917059Z",
     "iopub.status.idle": "2022-10-25T16:21:02.651642Z",
     "shell.execute_reply": "2022-10-25T16:21:02.650786Z",
     "shell.execute_reply.started": "2022-10-25T16:20:58.917359Z"
    },
    "tags": []
   },
   "outputs": [
    {
     "data": {
      "text/plain": [
       "[0.9999914863728756,\n",
       " 0.9999936147796566,\n",
       " 0.9999957431864378,\n",
       " 0.9999978715932188,\n",
       " 1.0]"
      ]
     },
     "execution_count": 9,
     "metadata": {},
     "output_type": "execute_result"
    }
   ],
   "source": [
    "sorted(Counter(missing_prop).keys())[-5:]"
   ]
  },
  {
   "cell_type": "code",
   "execution_count": 13,
   "id": "c840fcda-c370-4805-9807-7c4927623c15",
   "metadata": {
    "execution": {
     "iopub.execute_input": "2022-10-25T16:51:44.673265Z",
     "iopub.status.busy": "2022-10-25T16:51:44.673000Z",
     "iopub.status.idle": "2022-10-25T16:51:47.523001Z",
     "shell.execute_reply": "2022-10-25T16:51:47.521960Z",
     "shell.execute_reply.started": "2022-10-25T16:51:44.673235Z"
    }
   },
   "outputs": [],
   "source": [
    "good_variants = []\n",
    "with open(\"/mnt/speliotes-lab/Projects/UK_ATLAS/GENODATA/Exomechip_10_13_2022/helper_files/ukb23158_500k_OQFE.90pct10dp_qc_variants.txt\",\"r\") as f:\n",
    "    for line in f:\n",
    "        good_variants.append(line.strip())\n",
    "my_variants = list(all_counts.ID)"
   ]
  },
  {
   "cell_type": "code",
   "execution_count": 14,
   "id": "eee39047-5fd6-462c-9722-db8c8c62c55a",
   "metadata": {
    "execution": {
     "iopub.execute_input": "2022-10-25T16:51:49.562389Z",
     "iopub.status.busy": "2022-10-25T16:51:49.562161Z",
     "iopub.status.idle": "2022-10-25T16:51:49.566456Z",
     "shell.execute_reply": "2022-10-25T16:51:49.565860Z",
     "shell.execute_reply.started": "2022-10-25T16:51:49.562367Z"
    },
    "tags": []
   },
   "outputs": [
    {
     "name": "stdout",
     "output_type": "stream",
     "text": [
      "5798366 26388327\n"
     ]
    }
   ],
   "source": [
    "print(len(good_variants),len(my_variants))"
   ]
  }
 ],
 "metadata": {
  "kernelspec": {
   "display_name": "Python 3 (ipykernel)",
   "language": "python",
   "name": "python3"
  },
  "language_info": {
   "codemirror_mode": {
    "name": "ipython",
    "version": 3
   },
   "file_extension": ".py",
   "mimetype": "text/x-python",
   "name": "python",
   "nbconvert_exporter": "python",
   "pygments_lexer": "ipython3",
   "version": "3.9.13"
  }
 },
 "nbformat": 4,
 "nbformat_minor": 5
}
