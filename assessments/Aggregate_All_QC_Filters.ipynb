{
 "cells": [
  {
   "cell_type": "markdown",
   "id": "054bed21-ca07-4177-9bbf-017539ba9b7d",
   "metadata": {},
   "source": [
    "# Aggregate All QC Filters"
   ]
  },
  {
   "cell_type": "markdown",
   "id": "f0b987e9-7522-4921-8e01-b2d9e13c130f",
   "metadata": {},
   "source": [
    "There are 5 main QC filters:\n",
    " - variant missingness\n",
    " - individual missingness\n",
    " - variant hwe\n",
    " - variant read depth\n",
    " - variant allelic balance\n",
    "\n",
    "Each one has it's own threshold & each one was applied individually to build a mask.\n",
    "\n",
    "This notebook aggregates them & demonstrates how each one refines the UKBB Exome data into the format we want to use it in."
   ]
  },
  {
   "cell_type": "markdown",
   "id": "47c8a647-8555-40b7-9f8d-0265006f7dc7",
   "metadata": {},
   "source": [
    "# Imports & Globals"
   ]
  },
  {
   "cell_type": "code",
   "execution_count": 51,
   "id": "f4ed9ccb-7290-421b-b0f4-f329b0544bf6",
   "metadata": {
    "execution": {
     "iopub.execute_input": "2023-01-17T21:26:54.228768Z",
     "iopub.status.busy": "2023-01-17T21:26:54.228550Z",
     "iopub.status.idle": "2023-01-17T21:26:54.233107Z",
     "shell.execute_reply": "2023-01-17T21:26:54.232641Z",
     "shell.execute_reply.started": "2023-01-17T21:26:54.228747Z"
    },
    "tags": []
   },
   "outputs": [],
   "source": [
    "import pandas as pd\n",
    "import numpy as np\n",
    "from collections import defaultdict\n",
    "\n",
    "DATA_OUT = \"/mnt/speliotes-lab/Projects/UK_ATLAS/IndivProj/craut/UKB_500K_exome_QC/\"\n",
    "DATA_IN = \"/mnt/speliotes-lab/Projects/UK_ATLAS/GENODATA/Exomechip_10_13_2022/\"\n",
    "rap_output_files = \"{}rap_runs/{}/\".format(DATA_OUT,\"{}\")\n",
    "sample_missing_files = \"{}allele_counts/chr{}/var_counts.smiss\".format(DATA_OUT,\"{}\")\n",
    "variant_missing_files = \"{}allele_counts/chr{}/var_counts.vmiss\".format(DATA_OUT,\"{}\")\n",
    "hwe_files = \"{}allele_hwe/chr{}/var_hwe.hardy\".format(DATA_OUT,\"{}\")\n",
    "CHROMOS = list(range(1,22+1))\n",
    "GROUPS = [\"group_{}\".format(i) for i in range(1,10+1)]\n",
    "\n",
    "from glob import glob"
   ]
  },
  {
   "cell_type": "markdown",
   "id": "e559f4e1-9938-405a-bc05-8463bb01e0cf",
   "metadata": {},
   "source": [
    "# Read Depth & Allelic Balance"
   ]
  },
  {
   "cell_type": "markdown",
   "id": "738b28c5-2c35-45f2-a5cf-0812dc830baf",
   "metadata": {},
   "source": [
    "Read depth & allelic balance were run on the UK BioBank (UKBB) Research Access Portal (RAP). Early termination was used on them so values of 0.0 mean that variant had such poor read depth that actual was not calculated. Furthermore since allelic balance was 1st sample to qualify, once a sample qualified allelic balance calculation was stopped. Third allelic balance was run after read depth so if read depth was insufficient allelic balance calculation was skipped resulting in value of 0.0."
   ]
  },
  {
   "cell_type": "code",
   "execution_count": 2,
   "id": "e0efcf3a-671c-4925-96b5-0be93f196297",
   "metadata": {
    "execution": {
     "iopub.execute_input": "2023-01-17T18:31:30.077793Z",
     "iopub.status.busy": "2023-01-17T18:31:30.077417Z",
     "iopub.status.idle": "2023-01-17T18:32:39.880103Z",
     "shell.execute_reply": "2023-01-17T18:32:39.879394Z",
     "shell.execute_reply.started": "2023-01-17T18:31:30.077759Z"
    },
    "tags": []
   },
   "outputs": [
    {
     "name": "stdout",
     "output_type": "stream",
     "text": [
      "/mnt/speliotes-lab/Projects/UK_ATLAS/IndivProj/craut/UKB_500K_exome_QC/rap_runs/group_9\n",
      "/mnt/speliotes-lab/Projects/UK_ATLAS/IndivProj/craut/UKB_500K_exome_QC/rap_runs/group_10\n",
      "/mnt/speliotes-lab/Projects/UK_ATLAS/IndivProj/craut/UKB_500K_exome_QC/rap_runs/group_4\n",
      "/mnt/speliotes-lab/Projects/UK_ATLAS/IndivProj/craut/UKB_500K_exome_QC/rap_runs/group_2\n",
      "/mnt/speliotes-lab/Projects/UK_ATLAS/IndivProj/craut/UKB_500K_exome_QC/rap_runs/group_8\n",
      "/mnt/speliotes-lab/Projects/UK_ATLAS/IndivProj/craut/UKB_500K_exome_QC/rap_runs/group_7\n",
      "/mnt/speliotes-lab/Projects/UK_ATLAS/IndivProj/craut/UKB_500K_exome_QC/rap_runs/group_1\n",
      "/mnt/speliotes-lab/Projects/UK_ATLAS/IndivProj/craut/UKB_500K_exome_QC/rap_runs/local_vcfs\n",
      "/mnt/speliotes-lab/Projects/UK_ATLAS/IndivProj/craut/UKB_500K_exome_QC/rap_runs/group_5\n",
      "/mnt/speliotes-lab/Projects/UK_ATLAS/IndivProj/craut/UKB_500K_exome_QC/rap_runs/group_3\n",
      "/mnt/speliotes-lab/Projects/UK_ATLAS/IndivProj/craut/UKB_500K_exome_QC/rap_runs/group_6\n",
      "(26388600, 3)\n",
      "23349895 26388600 0.8848478130707957\n"
     ]
    }
   ],
   "source": [
    "new_data_list = []\n",
    "for dname in glob(rap_output_files[:-3]+\"*\"):\n",
    "    if \".\" not in dname:\n",
    "        print(dname)\n",
    "        for fname in glob(dname+\"/*\"):\n",
    "            with open(fname, \"r\") as f:\n",
    "                for line in f:\n",
    "                    line = line.strip().split()\n",
    "                    for snp in line[0].split(\";\"):\n",
    "                        new_data_list.append({\"snpid\":snp,\n",
    "                                              \"rd_10\":float(line[1]),\n",
    "                                              \"ab\":float(line[2])})\n",
    "new_data_df = pd.DataFrame(new_data_list)\n",
    "print(new_data_df.shape)\n",
    "#new_data_df.head()\n",
    "\n",
    "# 10%_read_depth\n",
    "indel_mask = np.array([bool(snp[-2] != \"_\" or snp[-4] != \"_\") for snp in new_data_df.snpid])\n",
    "rd_mask = np.array([rd >= (10 if indel else 7) for indel,rd in zip(indel_mask,new_data_df.rd_10)])\n",
    "ab_mask = np.array([ab >= (0.2 if indel else 0.15) for indel,ab in zip(indel_mask,new_data_df.ab)])\n",
    "rd10_mask = rd_mask & ab_mask\n",
    "print(np.sum(rd10_mask),len(rd10_mask),np.sum(rd10_mask)/len(rd10_mask))"
   ]
  },
  {
   "cell_type": "markdown",
   "id": "32e2a12a-99c5-4d5e-87a3-f3576793fbfa",
   "metadata": {},
   "source": [
    "# Variant & Individual Missingness"
   ]
  },
  {
   "cell_type": "markdown",
   "id": "20634de8-26ff-463e-8d32-3a5810ce1877",
   "metadata": {},
   "source": [
    "Missingness was calculated via Plink2 locally in the same run on the original bgen files downloaded directly from the RAP.\n",
    "\n",
    "Bgen files were assumed to be 'ref-first'"
   ]
  },
  {
   "cell_type": "code",
   "execution_count": 9,
   "id": "6510a242-a879-4c0c-a007-a92947904e45",
   "metadata": {
    "execution": {
     "iopub.execute_input": "2023-01-17T19:04:00.631411Z",
     "iopub.status.busy": "2023-01-17T19:04:00.631184Z",
     "iopub.status.idle": "2023-01-17T19:04:42.022222Z",
     "shell.execute_reply": "2023-01-17T19:04:42.021367Z",
     "shell.execute_reply.started": "2023-01-17T19:04:00.631389Z"
    },
    "tags": []
   },
   "outputs": [
    {
     "name": "stdout",
     "output_type": "stream",
     "text": [
      "(26388327, 5)\n",
      "25989060 26388327 0.9848695599383773\n"
     ]
    }
   ],
   "source": [
    "# variant_missingness\n",
    "variant_missingness_df = pd.DataFrame()\n",
    "for chrom in CHROMOS:\n",
    "    tmp_df = pd.read_table(variant_missing_files.format(chrom))\n",
    "    if variant_missingness_df.empty:\n",
    "        variant_missingness_df = tmp_df\n",
    "    else:\n",
    "        variant_missingness_df = pd.concat([variant_missingness_df,tmp_df])\n",
    "print(variant_missingness_df.shape)\n",
    "vmiss_mask = np.array([f <= 0.1 for f in variant_missingness_df.F_MISS])\n",
    "\n",
    "print(np.sum(vmiss_mask),len(vmiss_mask),np.sum(vmiss_mask)/len(vmiss_mask))"
   ]
  },
  {
   "cell_type": "code",
   "execution_count": 17,
   "id": "4760868b-adc2-4317-bb37-2c74e5860d60",
   "metadata": {
    "execution": {
     "iopub.execute_input": "2023-01-17T19:16:46.792783Z",
     "iopub.status.busy": "2023-01-17T19:16:46.792297Z",
     "iopub.status.idle": "2023-01-17T19:17:04.074101Z",
     "shell.execute_reply": "2023-01-17T19:17:04.073287Z",
     "shell.execute_reply.started": "2023-01-17T19:16:46.792752Z"
    },
    "tags": []
   },
   "outputs": [
    {
     "name": "stdout",
     "output_type": "stream",
     "text": [
      "(469835, 4)\n",
      "469835 469835 1.0\n"
     ]
    }
   ],
   "source": [
    "# individual_missingness\n",
    "empty_tuple = lambda : (0,0)\n",
    "ind_to_cnts = defaultdict(empty_tuple)\n",
    "for chrom in CHROMOS:\n",
    "    with open(sample_missing_files.format(chrom),\"r\") as f:\n",
    "        for i,line in enumerate(f):\n",
    "            if i > 0: # don't process header\n",
    "                fid,iid,m_cnt,o_cnt,f_miss = map(float,line.strip().split())\n",
    "                ind_to_cnts[iid] = (ind_to_cnts[iid][0]+m_cnt,ind_to_cnts[iid][1]+o_cnt)\n",
    "sample_missingness_df = pd.DataFrame([{\"IID\":iid,\"MISSING_CT\":ind_to_cnts[iid][0],\"OBS_CT\":ind_to_cnts[iid][1]} for iid in ind_to_cnts])\n",
    "sample_missingness_df[\"F_MISS\"] = sample_missingness_df.MISSING_CT/sample_missingness_df.OBS_CT\n",
    "print(sample_missingness_df.shape)\n",
    "smiss_mask = np.array([f <= 0.1 for f in sample_missingness_df.F_MISS])\n",
    "\n",
    "print(np.sum(smiss_mask),len(smiss_mask),np.sum(smiss_mask)/len(smiss_mask))"
   ]
  },
  {
   "cell_type": "markdown",
   "id": "8f3fa71c-a0a2-4f08-8dba-6c501e9cf64e",
   "metadata": {},
   "source": [
    "# Hardy Weinberg Equilibrium"
   ]
  },
  {
   "cell_type": "markdown",
   "id": "75f77e90-5da8-4373-aab4-9b1c06696018",
   "metadata": {},
   "source": [
    "HWE was calculated locally via Plink2. Bgen data was processed for this analysis."
   ]
  },
  {
   "cell_type": "code",
   "execution_count": 52,
   "id": "65266114-b42e-44c2-99e9-ff71bc1a33bc",
   "metadata": {
    "execution": {
     "iopub.execute_input": "2023-01-17T21:29:58.614054Z",
     "iopub.status.busy": "2023-01-17T21:29:58.613816Z",
     "iopub.status.idle": "2023-01-17T21:30:50.245067Z",
     "shell.execute_reply": "2023-01-17T21:30:50.244297Z",
     "shell.execute_reply.started": "2023-01-17T21:29:58.614031Z"
    },
    "tags": []
   },
   "outputs": [
    {
     "name": "stdout",
     "output_type": "stream",
     "text": [
      "(26388327, 10)\n",
      "26150930 26388327 0.9910037116032403\n"
     ]
    }
   ],
   "source": [
    "# hwe equilibrium\n",
    "hwe_df = pd.DataFrame()\n",
    "for chrom in CHROMOS:\n",
    "    tmp_df = pd.read_table(hwe_files.format(chrom))\n",
    "    if hwe_df.empty:\n",
    "        hwe_df = tmp_df\n",
    "    else:\n",
    "        hwe_df = pd.concat([hwe_df,tmp_df])\n",
    "print(hwe_df.shape)\n",
    "hwe_mask = np.array([p > 1e-15 for p in hwe_df.P])\n",
    "\n",
    "print(np.sum(hwe_mask),len(hwe_mask),np.sum(hwe_mask)/len(hwe_mask))"
   ]
  },
  {
   "cell_type": "markdown",
   "id": "3b60c5c8-98bc-4fd2-9cbf-7b728ec80c88",
   "metadata": {},
   "source": [
    "# Combining all the filters"
   ]
  },
  {
   "cell_type": "markdown",
   "id": "fc6116c9-4872-48a4-9c59-871fbe174a12",
   "metadata": {},
   "source": [
    "## Missing Read Depth for bgen variants"
   ]
  },
  {
   "cell_type": "markdown",
   "id": "002e66bd-f6a9-4b43-bb49-496758f1eb17",
   "metadata": {},
   "source": [
    "So not every variant found in the bgen file is found in the vcf file.\n",
    "\n",
    "In fact 331 variants are unique to the bgen format. To invesitigate the reason behind this I decided to study these vcf free variants & noticed they were all InDels. Furthermore, half 174 had high missingness in the bgen file so most of these InDels should have been omitted.\n",
    "\n",
    "That leaves 157 variants without Read Depth"
   ]
  },
  {
   "cell_type": "code",
   "execution_count": 29,
   "id": "c47c010f-d3a8-427e-afc7-f411ec7d37ab",
   "metadata": {
    "execution": {
     "iopub.execute_input": "2023-01-17T19:35:11.091533Z",
     "iopub.status.busy": "2023-01-17T19:35:11.091336Z",
     "iopub.status.idle": "2023-01-17T19:35:38.492933Z",
     "shell.execute_reply": "2023-01-17T19:35:38.492143Z",
     "shell.execute_reply.started": "2023-01-17T19:35:11.091512Z"
    },
    "tags": []
   },
   "outputs": [
    {
     "name": "stdout",
     "output_type": "stream",
     "text": [
      "26388327 26388600\n",
      "26387996\n"
     ]
    }
   ],
   "source": [
    "bgen_variants = set(variant_missingness_df.ID)\n",
    "def convert_vcf_snpid_to_bgen(snpid):\n",
    "    return snpid[3:].replace(\"_\",\":\")\n",
    "vcf_variants = set(map(convert_vcf_snpid_to_bgen,new_data_df.snpid))\n",
    "print(len(bgen_variants),len(vcf_variants))\n",
    "print(len(bgen_variants & vcf_variants))"
   ]
  },
  {
   "cell_type": "code",
   "execution_count": 31,
   "id": "0be4335c-ea0c-45a6-bc2a-bad68faef92c",
   "metadata": {
    "execution": {
     "iopub.execute_input": "2023-01-17T19:37:43.257906Z",
     "iopub.status.busy": "2023-01-17T19:37:43.257525Z",
     "iopub.status.idle": "2023-01-17T19:37:46.827928Z",
     "shell.execute_reply": "2023-01-17T19:37:46.827306Z",
     "shell.execute_reply.started": "2023-01-17T19:37:43.257874Z"
    },
    "tags": []
   },
   "outputs": [
    {
     "name": "stdout",
     "output_type": "stream",
     "text": [
      "331\n"
     ]
    }
   ],
   "source": [
    "unmapped_bgen_var = bgen_variants - vcf_variants\n",
    "print(len(unmapped_bgen_var))"
   ]
  },
  {
   "cell_type": "code",
   "execution_count": 36,
   "id": "af1bbc48-b3b5-4cae-9f25-808c3008827b",
   "metadata": {
    "execution": {
     "iopub.execute_input": "2023-01-17T19:52:43.093818Z",
     "iopub.status.busy": "2023-01-17T19:52:43.093609Z",
     "iopub.status.idle": "2023-01-17T19:53:15.585708Z",
     "shell.execute_reply": "2023-01-17T19:53:15.584618Z",
     "shell.execute_reply.started": "2023-01-17T19:52:43.093789Z"
    },
    "tags": []
   },
   "outputs": [
    {
     "name": "stdout",
     "output_type": "stream",
     "text": [
      "26388327 26388600\n"
     ]
    }
   ],
   "source": [
    "var_to_miss_filt = {var:filt for var,filt in zip(variant_missingness_df.ID,vmiss_mask)}\n",
    "var_to_rdab_filt = {convert_vcf_snpid_to_bgen(var):filt for var,filt in zip(new_data_df.snpid,rd10_mask)}\n",
    "print(len(var_to_miss_filt),len(var_to_rdab_filt))"
   ]
  },
  {
   "cell_type": "code",
   "execution_count": 39,
   "id": "14903be5-7ef1-4d4a-8de8-493c2c86f0ad",
   "metadata": {
    "execution": {
     "iopub.execute_input": "2023-01-17T20:27:35.427831Z",
     "iopub.status.busy": "2023-01-17T20:27:35.427551Z",
     "iopub.status.idle": "2023-01-17T20:27:35.433380Z",
     "shell.execute_reply": "2023-01-17T20:27:35.432529Z",
     "shell.execute_reply.started": "2023-01-17T20:27:35.427807Z"
    },
    "tags": []
   },
   "outputs": [
    {
     "name": "stdout",
     "output_type": "stream",
     "text": [
      "157\n"
     ]
    }
   ],
   "source": [
    "shoulda_kept = 0\n",
    "for var in unmapped_bgen_var:\n",
    "    if var_to_miss_filt[var]:\n",
    "        shoulda_kept += 1\n",
    "print(shoulda_kept)"
   ]
  },
  {
   "cell_type": "markdown",
   "id": "0351702f-0e0f-4a45-a23a-6ef09561a153",
   "metadata": {
    "execution": {
     "iopub.execute_input": "2023-01-17T20:43:43.023921Z",
     "iopub.status.busy": "2023-01-17T20:43:43.023503Z",
     "iopub.status.idle": "2023-01-17T20:43:43.029742Z",
     "shell.execute_reply": "2023-01-17T20:43:43.029037Z",
     "shell.execute_reply.started": "2023-01-17T20:43:43.023890Z"
    },
    "tags": []
   },
   "source": [
    "Normally this is where things would end, but since these are all InDels ... we can make use of the 90pct high quality file that the UKBB provided earlier.\n",
    "\n",
    "It is a file with a list of variants of which 90% of the read depths are >= 10 which just so happens to be the cutoff threshold for InDels for our threshold."
   ]
  },
  {
   "cell_type": "code",
   "execution_count": 46,
   "id": "a473d776-0cd2-4a96-b262-220385598f12",
   "metadata": {
    "execution": {
     "iopub.execute_input": "2023-01-17T21:03:30.722585Z",
     "iopub.status.busy": "2023-01-17T21:03:30.722361Z",
     "iopub.status.idle": "2023-01-17T21:03:33.195982Z",
     "shell.execute_reply": "2023-01-17T21:03:33.195353Z",
     "shell.execute_reply.started": "2023-01-17T21:03:30.722557Z"
    },
    "tags": []
   },
   "outputs": [
    {
     "name": "stdout",
     "output_type": "stream",
     "text": [
      "5797991\n"
     ]
    }
   ],
   "source": [
    "hq_var = set()\n",
    "with open(\"{}helper_files/ukb23158_500k_OQFE.90pct10dp_qc_variants.txt\".format(DATA_IN),\"r\") as f:\n",
    "    for i,line in enumerate(f):\n",
    "        hq_var.add(line.strip())\n",
    "print(len(hq_var))"
   ]
  },
  {
   "cell_type": "code",
   "execution_count": 48,
   "id": "c36a043e-1802-4383-aace-eed8b8e5b69a",
   "metadata": {
    "execution": {
     "iopub.execute_input": "2023-01-17T21:05:07.356879Z",
     "iopub.status.busy": "2023-01-17T21:05:07.356640Z",
     "iopub.status.idle": "2023-01-17T21:05:07.360762Z",
     "shell.execute_reply": "2023-01-17T21:05:07.360230Z",
     "shell.execute_reply.started": "2023-01-17T21:05:07.356855Z"
    },
    "tags": []
   },
   "outputs": [
    {
     "name": "stdout",
     "output_type": "stream",
     "text": [
      "268\n"
     ]
    }
   ],
   "source": [
    "good_unmapped = set()\n",
    "for var in unmapped_bgen_var:\n",
    "    if var in hq_var:\n",
    "        good_unmapped.add(var)\n",
    "print(len(good_unmapped))"
   ]
  },
  {
   "cell_type": "markdown",
   "id": "fd522baf-2505-458b-80ee-480c2fbf370a",
   "metadata": {},
   "source": [
    "We would still need the allelic balance for these variants, but since they are in the High Quality file provided by UKBB I will assume that they pass the vcf filter threshold which includes allelic balance.\n",
    "\n",
    "I do not assume that they automatically pass the missingness threshold. Any variants not in this file ... I think I can assume will not pass the Read Depth and Allelic balance thresholds."
   ]
  },
  {
   "cell_type": "code",
   "execution_count": 50,
   "id": "3d5fce3d-ff3a-4d07-bd12-608bfc00e88a",
   "metadata": {
    "execution": {
     "iopub.execute_input": "2023-01-17T21:26:16.943282Z",
     "iopub.status.busy": "2023-01-17T21:26:16.943048Z",
     "iopub.status.idle": "2023-01-17T21:26:30.214618Z",
     "shell.execute_reply": "2023-01-17T21:26:30.213779Z",
     "shell.execute_reply.started": "2023-01-17T21:26:16.943261Z"
    }
   },
   "outputs": [
    {
     "name": "stdout",
     "output_type": "stream",
     "text": [
      "23349853 26388327 0.8848553756363562\n"
     ]
    }
   ],
   "source": [
    "bgen_rdab_mask = []\n",
    "for var in variant_missingness_df.ID:\n",
    "    if var in var_to_rdab_filt:\n",
    "        bgen_rdab_mask.append(var_to_rdab_filt[var])\n",
    "    else:\n",
    "        bgen_rdab_mask.append(var in good_unmapped)\n",
    "bgen_rdab_mask = np.array(bgen_rdab_mask)\n",
    "print(np.sum(bgen_rdab_mask),len(bgen_rdab_mask),np.sum(bgen_rdab_mask)/len(bgen_rdab_mask))"
   ]
  },
  {
   "cell_type": "markdown",
   "id": "5337e18b-d6a6-4186-8a42-d64cc4146ccd",
   "metadata": {},
   "source": [
    "Okay so following this protocol we get a 100% match with the variants from the VCF filter and the variants across the bgen filters.\n",
    "\n",
    "Proceed to the final merge now."
   ]
  },
  {
   "cell_type": "markdown",
   "id": "12459980-e868-42fb-bf32-8ca731dc86a6",
   "metadata": {},
   "source": [
    "## Final Merge"
   ]
  },
  {
   "cell_type": "markdown",
   "id": "9851d83f-7b9c-4f2d-977f-1696e6a29017",
   "metadata": {},
   "source": [
    "So from each of the 4 indpendent masks:\n",
    "- variant missingness --> keep 98% of variants\n",
    "- hwe --> keep 99% of variants\n",
    "- read depth and allelic balance --> keep ~88% of variants\n",
    "- individual missingness --> 100% of individuals\n",
    "\n",
    "The individual mask is not necessary (🙏) so I will ignore it & apply the masks in the following order:\n",
    "- no masks: 26,388,327 variants\n",
    "- variant missingness mask: 25,989,060 variants\n",
    "- HWE mask: 25,786,269 variants\n",
    "- Read Depth & Allelic Balance mask: 22,946,846 variants"
   ]
  },
  {
   "cell_type": "code",
   "execution_count": 55,
   "id": "3a37c49f-8230-4183-8bf8-ecb94a3d9229",
   "metadata": {
    "execution": {
     "iopub.execute_input": "2023-01-17T21:39:53.527032Z",
     "iopub.status.busy": "2023-01-17T21:39:53.526822Z",
     "iopub.status.idle": "2023-01-17T21:40:02.082179Z",
     "shell.execute_reply": "2023-01-17T21:40:02.081410Z",
     "shell.execute_reply.started": "2023-01-17T21:39:53.527007Z"
    }
   },
   "outputs": [
    {
     "name": "stdout",
     "output_type": "stream",
     "text": [
      "26388327\n"
     ]
    }
   ],
   "source": [
    "all_variants = set(variant_missingness_df.ID)\n",
    "print(len(all_variants))"
   ]
  },
  {
   "cell_type": "code",
   "execution_count": 56,
   "id": "2ef26cd5-bc24-4641-b631-194a86529a82",
   "metadata": {
    "execution": {
     "iopub.execute_input": "2023-01-17T21:42:04.949168Z",
     "iopub.status.busy": "2023-01-17T21:42:04.948720Z",
     "iopub.status.idle": "2023-01-17T21:42:19.035790Z",
     "shell.execute_reply": "2023-01-17T21:42:19.034912Z",
     "shell.execute_reply.started": "2023-01-17T21:42:04.949137Z"
    },
    "tags": []
   },
   "outputs": [
    {
     "name": "stdout",
     "output_type": "stream",
     "text": [
      "25989060\n"
     ]
    }
   ],
   "source": [
    "vm_variants = set(variant_missingness_df[vmiss_mask].ID)\n",
    "print(len(all_variants & vm_variants))"
   ]
  },
  {
   "cell_type": "code",
   "execution_count": 57,
   "id": "37ef606b-31d9-40b3-a7d1-7ae206cd19b1",
   "metadata": {
    "execution": {
     "iopub.execute_input": "2023-01-17T21:43:13.553322Z",
     "iopub.status.busy": "2023-01-17T21:43:13.552982Z",
     "iopub.status.idle": "2023-01-17T21:43:41.557624Z",
     "shell.execute_reply": "2023-01-17T21:43:41.556687Z",
     "shell.execute_reply.started": "2023-01-17T21:43:13.553296Z"
    },
    "tags": []
   },
   "outputs": [
    {
     "name": "stdout",
     "output_type": "stream",
     "text": [
      "25786269\n"
     ]
    }
   ],
   "source": [
    "hwe_variants = set(hwe_df[hwe_mask].ID)\n",
    "print(len(all_variants & vm_variants & hwe_variants))"
   ]
  },
  {
   "cell_type": "code",
   "execution_count": 58,
   "id": "ac68d59d-218d-4aa9-a082-0ce21fd1bf02",
   "metadata": {
    "execution": {
     "iopub.execute_input": "2023-01-17T21:44:24.067455Z",
     "iopub.status.busy": "2023-01-17T21:44:24.067102Z",
     "iopub.status.idle": "2023-01-17T21:44:52.694182Z",
     "shell.execute_reply": "2023-01-17T21:44:52.693378Z",
     "shell.execute_reply.started": "2023-01-17T21:44:24.067430Z"
    },
    "tags": []
   },
   "outputs": [
    {
     "name": "stdout",
     "output_type": "stream",
     "text": [
      "22946846\n"
     ]
    }
   ],
   "source": [
    "rdab_variants = set(variant_missingness_df[bgen_rdab_mask].ID)\n",
    "print(len(all_variants & vm_variants & hwe_variants & rdab_variants))"
   ]
  },
  {
   "cell_type": "code",
   "execution_count": 59,
   "id": "8ba40f0d-d54e-4771-aa7e-ee20a95dae28",
   "metadata": {
    "execution": {
     "iopub.execute_input": "2023-01-17T21:47:42.968386Z",
     "iopub.status.busy": "2023-01-17T21:47:42.968099Z",
     "iopub.status.idle": "2023-01-17T21:48:00.915175Z",
     "shell.execute_reply": "2023-01-17T21:48:00.914450Z",
     "shell.execute_reply.started": "2023-01-17T21:47:42.968363Z"
    },
    "tags": []
   },
   "outputs": [],
   "source": [
    "final_good_clean_variants = all_variants & vm_variants & hwe_variants & rdab_variants"
   ]
  },
  {
   "cell_type": "markdown",
   "id": "a342031d-a573-4762-815c-cd7ddfb1bcf0",
   "metadata": {},
   "source": [
    "So now all that's left to do is to write these variants to 22 text files.\n",
    "- one for each chromosome\n",
    "- one variant per line\n",
    "\n",
    "Then run the final Plink bgen filter."
   ]
  },
  {
   "cell_type": "code",
   "execution_count": 60,
   "id": "580d1b49-ca58-4b67-95ee-e348823efd25",
   "metadata": {
    "execution": {
     "iopub.execute_input": "2023-01-17T21:55:30.298173Z",
     "iopub.status.busy": "2023-01-17T21:55:30.297941Z",
     "iopub.status.idle": "2023-01-17T21:55:30.302079Z",
     "shell.execute_reply": "2023-01-17T21:55:30.301617Z",
     "shell.execute_reply.started": "2023-01-17T21:55:30.298152Z"
    },
    "tags": []
   },
   "outputs": [
    {
     "data": {
      "text/plain": [
       "0.8695832062411535"
      ]
     },
     "execution_count": 60,
     "metadata": {},
     "output_type": "execute_result"
    }
   ],
   "source": [
    "22946846/26388327"
   ]
  }
 ],
 "metadata": {
  "kernelspec": {
   "display_name": "Python 3 (ipykernel)",
   "language": "python",
   "name": "python3"
  },
  "language_info": {
   "codemirror_mode": {
    "name": "ipython",
    "version": 3
   },
   "file_extension": ".py",
   "mimetype": "text/x-python",
   "name": "python",
   "nbconvert_exporter": "python",
   "pygments_lexer": "ipython3",
   "version": "3.9.13"
  }
 },
 "nbformat": 4,
 "nbformat_minor": 5
}
