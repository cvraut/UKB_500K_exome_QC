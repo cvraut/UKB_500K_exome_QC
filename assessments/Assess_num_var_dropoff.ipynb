{
 "cells": [
  {
   "cell_type": "markdown",
   "id": "825e26d9-0552-4a96-8518-7732f5f5465f",
   "metadata": {
    "execution": {
     "iopub.execute_input": "2023-01-09T21:47:01.637782Z",
     "iopub.status.busy": "2023-01-09T21:47:01.637449Z",
     "iopub.status.idle": "2023-01-09T21:47:01.641326Z",
     "shell.execute_reply": "2023-01-09T21:47:01.640798Z",
     "shell.execute_reply.started": "2023-01-09T21:47:01.637711Z"
    },
    "tags": []
   },
   "source": [
    "# Assess Number of Variants Dropoff with different Read Depth Cutoffs"
   ]
  },
  {
   "cell_type": "markdown",
   "id": "c29469ff-1c42-4d42-8f75-cade30d0ebdb",
   "metadata": {},
   "source": [
    "So we have 2 types of data on the 17 vcf batch files from ukbb.\n",
    "\n",
    "The first one is a bit longer & more comprehensive. It contains:\n",
    "- `snpid \\t avg_read_depth \\t first_quartile_read_depth \\t min_read_depth \\t allele_balance`\n",
    "  - we can establish the avg & 25% read depths with this\n",
    "  - note this ignores missing data\n",
    "\n",
    "The second one makes heavy use of early termination algorithms to establish a early cutoff for 90% read depths < 7\n",
    "- `snpid \\t 90%_read_depth \\t allele_balance`\n",
    "  - we can establish the 10% read depth cutoff with this\n",
    "  - note this marks missing data as a read-depth of 0"
   ]
  },
  {
   "cell_type": "markdown",
   "id": "69154b9b-8055-4da4-8a13-09eb8f3ad925",
   "metadata": {},
   "source": [
    "# imports, globals, and data"
   ]
  },
  {
   "cell_type": "code",
   "execution_count": 12,
   "id": "2c15d5d9-63e3-4c8d-b6e8-454f0d741e91",
   "metadata": {
    "execution": {
     "iopub.execute_input": "2023-01-10T17:31:53.206710Z",
     "iopub.status.busy": "2023-01-10T17:31:53.206491Z",
     "iopub.status.idle": "2023-01-10T17:31:53.210290Z",
     "shell.execute_reply": "2023-01-10T17:31:53.209741Z",
     "shell.execute_reply.started": "2023-01-10T17:31:53.206687Z"
    },
    "tags": []
   },
   "outputs": [],
   "source": [
    "import pandas as pd\n",
    "import numpy as np\n",
    "DATA_OUT = \"/mnt/speliotes-lab/Projects/UK_ATLAS/IndivProj/craut/UKB_500K_exome_QC/\"\n",
    "old_runs_files = \"{}old\".format(DATA_OUT)\n",
    "updated_runs_files = \"{}updated_runs/v1_6_full_runs\".format(DATA_OUT)\n",
    "from glob import glob"
   ]
  },
  {
   "cell_type": "code",
   "execution_count": 9,
   "id": "4cee53db-a8ed-4c59-8689-4401a2287b0b",
   "metadata": {
    "execution": {
     "iopub.execute_input": "2023-01-10T17:05:55.874155Z",
     "iopub.status.busy": "2023-01-10T17:05:55.873910Z",
     "iopub.status.idle": "2023-01-10T17:05:57.129719Z",
     "shell.execute_reply": "2023-01-10T17:05:57.129164Z",
     "shell.execute_reply.started": "2023-01-10T17:05:55.874134Z"
    },
    "tags": []
   },
   "outputs": [
    {
     "name": "stdout",
     "output_type": "stream",
     "text": [
      "(450264, 5)\n"
     ]
    },
    {
     "data": {
      "text/html": [
       "<div>\n",
       "<style scoped>\n",
       "    .dataframe tbody tr th:only-of-type {\n",
       "        vertical-align: middle;\n",
       "    }\n",
       "\n",
       "    .dataframe tbody tr th {\n",
       "        vertical-align: top;\n",
       "    }\n",
       "\n",
       "    .dataframe thead th {\n",
       "        text-align: right;\n",
       "    }\n",
       "</style>\n",
       "<table border=\"1\" class=\"dataframe\">\n",
       "  <thead>\n",
       "    <tr style=\"text-align: right;\">\n",
       "      <th></th>\n",
       "      <th>snpid</th>\n",
       "      <th>avg_rd</th>\n",
       "      <th>rd_25</th>\n",
       "      <th>min_rd</th>\n",
       "      <th>ab</th>\n",
       "    </tr>\n",
       "  </thead>\n",
       "  <tbody>\n",
       "    <tr>\n",
       "      <th>0</th>\n",
       "      <td>chr21_39198667_T_A</td>\n",
       "      <td>10.530052</td>\n",
       "      <td>7.0</td>\n",
       "      <td>0.0</td>\n",
       "      <td>0.285714</td>\n",
       "    </tr>\n",
       "    <tr>\n",
       "      <th>1</th>\n",
       "      <td>chr21_39198677_CTT_C</td>\n",
       "      <td>12.713595</td>\n",
       "      <td>9.0</td>\n",
       "      <td>0.0</td>\n",
       "      <td>0.470588</td>\n",
       "    </tr>\n",
       "    <tr>\n",
       "      <th>2</th>\n",
       "      <td>chr21_39198680_T_A</td>\n",
       "      <td>12.968998</td>\n",
       "      <td>10.0</td>\n",
       "      <td>0.0</td>\n",
       "      <td>0.200000</td>\n",
       "    </tr>\n",
       "    <tr>\n",
       "      <th>3</th>\n",
       "      <td>chr21_39198683_C_T</td>\n",
       "      <td>13.121108</td>\n",
       "      <td>10.0</td>\n",
       "      <td>0.0</td>\n",
       "      <td>0.384615</td>\n",
       "    </tr>\n",
       "    <tr>\n",
       "      <th>4</th>\n",
       "      <td>chr21_39198684_G_A</td>\n",
       "      <td>13.264188</td>\n",
       "      <td>11.0</td>\n",
       "      <td>0.0</td>\n",
       "      <td>0.461538</td>\n",
       "    </tr>\n",
       "  </tbody>\n",
       "</table>\n",
       "</div>"
      ],
      "text/plain": [
       "                  snpid     avg_rd  rd_25  min_rd        ab\n",
       "0    chr21_39198667_T_A  10.530052    7.0     0.0  0.285714\n",
       "1  chr21_39198677_CTT_C  12.713595    9.0     0.0  0.470588\n",
       "2    chr21_39198680_T_A  12.968998   10.0     0.0  0.200000\n",
       "3    chr21_39198683_C_T  13.121108   10.0     0.0  0.384615\n",
       "4    chr21_39198684_G_A  13.264188   11.0     0.0  0.461538"
      ]
     },
     "execution_count": 9,
     "metadata": {},
     "output_type": "execute_result"
    }
   ],
   "source": [
    "old_data_list = []\n",
    "for fname in glob(old_runs_folder + \"*\"):\n",
    "    with open(fname, \"r\") as f:\n",
    "        for line in f:\n",
    "            line = line.strip().split()\n",
    "            old_data_list.append({\"snpid\":line[0],\n",
    "                                  \"avg_rd\":float(line[1]),\n",
    "                                  \"rd_25\":float(line[2]),\n",
    "                                  \"min_rd\":float(line[3]),\n",
    "                                  \"ab\":float(line[4])})\n",
    "old_data_df = pd.DataFrame(old_data_list)\n",
    "print(old_data_df.shape)\n",
    "old_data_df.head()"
   ]
  },
  {
   "cell_type": "code",
   "execution_count": 10,
   "id": "5dc7fbed-1437-4fba-8795-6efc10e32032",
   "metadata": {
    "execution": {
     "iopub.execute_input": "2023-01-10T17:08:58.234922Z",
     "iopub.status.busy": "2023-01-10T17:08:58.234616Z",
     "iopub.status.idle": "2023-01-10T17:08:59.259079Z",
     "shell.execute_reply": "2023-01-10T17:08:59.258490Z",
     "shell.execute_reply.started": "2023-01-10T17:08:58.234901Z"
    },
    "tags": []
   },
   "outputs": [
    {
     "name": "stdout",
     "output_type": "stream",
     "text": [
      "(450264, 3)\n"
     ]
    },
    {
     "data": {
      "text/html": [
       "<div>\n",
       "<style scoped>\n",
       "    .dataframe tbody tr th:only-of-type {\n",
       "        vertical-align: middle;\n",
       "    }\n",
       "\n",
       "    .dataframe tbody tr th {\n",
       "        vertical-align: top;\n",
       "    }\n",
       "\n",
       "    .dataframe thead th {\n",
       "        text-align: right;\n",
       "    }\n",
       "</style>\n",
       "<table border=\"1\" class=\"dataframe\">\n",
       "  <thead>\n",
       "    <tr style=\"text-align: right;\">\n",
       "      <th></th>\n",
       "      <th>snpid</th>\n",
       "      <th>rd_10</th>\n",
       "      <th>ab</th>\n",
       "    </tr>\n",
       "  </thead>\n",
       "  <tbody>\n",
       "    <tr>\n",
       "      <th>0</th>\n",
       "      <td>chr21_39198667_T_A</td>\n",
       "      <td>0.0</td>\n",
       "      <td>0.000000</td>\n",
       "    </tr>\n",
       "    <tr>\n",
       "      <th>1</th>\n",
       "      <td>chr21_39198677_CTT_C</td>\n",
       "      <td>7.0</td>\n",
       "      <td>0.470588</td>\n",
       "    </tr>\n",
       "    <tr>\n",
       "      <th>2</th>\n",
       "      <td>chr21_39198680_T_A</td>\n",
       "      <td>7.0</td>\n",
       "      <td>0.200000</td>\n",
       "    </tr>\n",
       "    <tr>\n",
       "      <th>3</th>\n",
       "      <td>chr21_39198683_C_T</td>\n",
       "      <td>7.0</td>\n",
       "      <td>0.384615</td>\n",
       "    </tr>\n",
       "    <tr>\n",
       "      <th>4</th>\n",
       "      <td>chr21_39198684_G_A</td>\n",
       "      <td>7.0</td>\n",
       "      <td>0.461538</td>\n",
       "    </tr>\n",
       "  </tbody>\n",
       "</table>\n",
       "</div>"
      ],
      "text/plain": [
       "                  snpid  rd_10        ab\n",
       "0    chr21_39198667_T_A    0.0  0.000000\n",
       "1  chr21_39198677_CTT_C    7.0  0.470588\n",
       "2    chr21_39198680_T_A    7.0  0.200000\n",
       "3    chr21_39198683_C_T    7.0  0.384615\n",
       "4    chr21_39198684_G_A    7.0  0.461538"
      ]
     },
     "execution_count": 10,
     "metadata": {},
     "output_type": "execute_result"
    }
   ],
   "source": [
    "new_data_list = []\n",
    "for fname in glob(updated_runs_folder + \"*\"):\n",
    "    with open(fname, \"r\") as f:\n",
    "        for line in f:\n",
    "            line = line.strip().split()\n",
    "            for snp in line[0].split(\";\"):\n",
    "                new_data_list.append({\"snpid\":snp,\n",
    "                                      \"rd_10\":float(line[1]),\n",
    "                                      \"ab\":float(line[2])})\n",
    "new_data_df = pd.DataFrame(new_data_list)\n",
    "print(new_data_df.shape)\n",
    "new_data_df.head()"
   ]
  },
  {
   "cell_type": "markdown",
   "id": "8bdfeadc-addf-4561-95d6-5b5e6845d408",
   "metadata": {},
   "source": [
    "# Filter out based on different thresholds for read depth and allele balance"
   ]
  },
  {
   "cell_type": "markdown",
   "id": "a0fc2189-a246-43b0-a0bd-bbc032270556",
   "metadata": {},
   "source": [
    "So recall the filters for read depth and allele balance:\n",
    "- SNPs:\n",
    "  - Read Depth >= 7\n",
    "  - allele balance >= 0.15\n",
    "- InDels:\n",
    "  - Read Depth >= 10\n",
    "  - allele balance >= 0.2\n",
    "\n",
    "We will try different definitions of read depth to identify how many variant retentions we will have. Note the legit one is the updated version, but worth checking how much loss before spending the money to calculate this for sure.\n",
    "- min_read_depth\n",
    "- avg_read_depth\n",
    "- rd_25\n",
    "- rd_10"
   ]
  },
  {
   "cell_type": "code",
   "execution_count": 33,
   "id": "ff1df96a-2afc-470f-8eef-37d4e9a67c2e",
   "metadata": {
    "execution": {
     "iopub.execute_input": "2023-01-10T17:45:44.670940Z",
     "iopub.status.busy": "2023-01-10T17:45:44.670700Z",
     "iopub.status.idle": "2023-01-10T17:45:44.961772Z",
     "shell.execute_reply": "2023-01-10T17:45:44.961216Z",
     "shell.execute_reply.started": "2023-01-10T17:45:44.670917Z"
    },
    "tags": []
   },
   "outputs": [
    {
     "name": "stdout",
     "output_type": "stream",
     "text": [
      "193253 450264 0.4291993141801254\n"
     ]
    }
   ],
   "source": [
    "# min_read_depth\n",
    "indel_mask = np.array([bool(snp[-2] != \"_\" or snp[-4] != \"_\") for snp in old_data_df.snpid])\n",
    "rd_mask = np.array([rd >= (10 if indel else 7) for indel,rd in zip(indel_mask,old_data_df.min_rd)])\n",
    "ab_mask = np.array([ab >= (0.2 if indel else 0.15) for indel,ab in zip(indel_mask,old_data_df.ab)])\n",
    "min_mask = rd_mask & ab_mask\n",
    "print(np.sum(min_mask),len(min_mask),np.sum(min_mask)/len(min_mask))"
   ]
  },
  {
   "cell_type": "code",
   "execution_count": 34,
   "id": "8bae5c91-286d-42f4-abf8-841097f8f366",
   "metadata": {
    "execution": {
     "iopub.execute_input": "2023-01-10T17:46:05.365027Z",
     "iopub.status.busy": "2023-01-10T17:46:05.364776Z",
     "iopub.status.idle": "2023-01-10T17:46:05.684770Z",
     "shell.execute_reply": "2023-01-10T17:46:05.684026Z",
     "shell.execute_reply.started": "2023-01-10T17:46:05.365005Z"
    },
    "tags": []
   },
   "outputs": [
    {
     "name": "stdout",
     "output_type": "stream",
     "text": [
      "439305 450264 0.9756609455785938\n"
     ]
    }
   ],
   "source": [
    "# avg_read_depth\n",
    "indel_mask = np.array([bool(snp[-2] != \"_\" or snp[-4] != \"_\") for snp in old_data_df.snpid])\n",
    "rd_mask = np.array([rd >= (10 if indel else 7) for indel,rd in zip(indel_mask,old_data_df.avg_rd)])\n",
    "ab_mask = np.array([ab >= (0.2 if indel else 0.15) for indel,ab in zip(indel_mask,old_data_df.ab)])\n",
    "avg_mask = rd_mask & ab_mask\n",
    "print(np.sum(avg_mask),len(avg_mask),np.sum(avg_mask)/len(avg_mask))"
   ]
  },
  {
   "cell_type": "code",
   "execution_count": 35,
   "id": "8837b576-90ab-45e1-b395-5676971c69a8",
   "metadata": {
    "execution": {
     "iopub.execute_input": "2023-01-10T17:46:54.709468Z",
     "iopub.status.busy": "2023-01-10T17:46:54.708908Z",
     "iopub.status.idle": "2023-01-10T17:46:54.985876Z",
     "shell.execute_reply": "2023-01-10T17:46:54.985201Z",
     "shell.execute_reply.started": "2023-01-10T17:46:54.709420Z"
    },
    "tags": []
   },
   "outputs": [
    {
     "name": "stdout",
     "output_type": "stream",
     "text": [
      "426589 450264 0.9474197359771156\n"
     ]
    }
   ],
   "source": [
    "# 25%_read_depth\n",
    "indel_mask = np.array([bool(snp[-2] != \"_\" or snp[-4] != \"_\") for snp in old_data_df.snpid])\n",
    "rd_mask = np.array([rd >= (10 if indel else 7) for indel,rd in zip(indel_mask,old_data_df.rd_25)])\n",
    "ab_mask = np.array([ab >= (0.2 if indel else 0.15) for indel,ab in zip(indel_mask,old_data_df.ab)])\n",
    "rd25_mask = rd_mask & ab_mask\n",
    "print(np.sum(rd25_mask),len(rd25_mask),np.sum(rd25_mask)/len(rd25_mask))"
   ]
  },
  {
   "cell_type": "code",
   "execution_count": 36,
   "id": "9b5530c8-4f48-4d24-acb7-c1ecd9600a20",
   "metadata": {
    "execution": {
     "iopub.execute_input": "2023-01-10T17:52:16.868574Z",
     "iopub.status.busy": "2023-01-10T17:52:16.868125Z",
     "iopub.status.idle": "2023-01-10T17:52:17.166640Z",
     "shell.execute_reply": "2023-01-10T17:52:17.166035Z",
     "shell.execute_reply.started": "2023-01-10T17:52:16.868545Z"
    },
    "tags": []
   },
   "outputs": [
    {
     "name": "stdout",
     "output_type": "stream",
     "text": [
      "402898 450264 0.8948039372457047\n"
     ]
    }
   ],
   "source": [
    "# 10%_read_depth\n",
    "indel_mask = np.array([bool(snp[-2] != \"_\" or snp[-4] != \"_\") for snp in new_data_df.snpid])\n",
    "rd_mask = np.array([rd >= (10 if indel else 7) for indel,rd in zip(indel_mask,new_data_df.rd_10)])\n",
    "ab_mask = np.array([ab >= (0.2 if indel else 0.15) for indel,ab in zip(indel_mask,new_data_df.ab)])\n",
    "rd10_mask = rd_mask & ab_mask\n",
    "print(np.sum(rd10_mask),len(rd10_mask),np.sum(rd10_mask)/len(rd10_mask))"
   ]
  },
  {
   "cell_type": "markdown",
   "id": "6c03b388-45a5-4c85-9220-3661c2b7db61",
   "metadata": {
    "execution": {
     "iopub.execute_input": "2023-01-10T17:55:01.166644Z",
     "iopub.status.busy": "2023-01-10T17:55:01.166336Z",
     "iopub.status.idle": "2023-01-10T17:55:01.171060Z",
     "shell.execute_reply": "2023-01-10T17:55:01.170577Z",
     "shell.execute_reply.started": "2023-01-10T17:55:01.166622Z"
    },
    "tags": []
   },
   "source": [
    "Note we have 26 million variants to start off with & if we use the 90% cutoff we should eliminate about 11% of them leaving us with ~23 million variants ... which is miles better than the 16.9 million I have been using for now.\n",
    "\n",
    "To check that this dropoff is what I would expect. I can verify the retention rate on the rest of the chr 1 variants and ensure that a similar variant retention rate is observed."
   ]
  },
  {
   "cell_type": "markdown",
   "id": "decb9385-2441-4cf2-9328-0214a6392824",
   "metadata": {
    "execution": {
     "iopub.execute_input": "2023-01-10T18:01:42.349819Z",
     "iopub.status.busy": "2023-01-10T18:01:42.349337Z",
     "iopub.status.idle": "2023-01-10T18:01:42.355683Z",
     "shell.execute_reply": "2023-01-10T18:01:42.354930Z",
     "shell.execute_reply.started": "2023-01-10T18:01:42.349788Z"
    },
    "tags": []
   },
   "source": [
    "# Check with previous Chr 1 batch job"
   ]
  },
  {
   "cell_type": "markdown",
   "id": "ff33a816-b3a4-4685-8217-5bc1f036a171",
   "metadata": {},
   "source": [
    "Note that the previous chr1 job was run using the outdated code ..."
   ]
  },
  {
   "cell_type": "code",
   "execution_count": 58,
   "id": "029846fc-6ff4-4e8a-a785-9409b13fc4db",
   "metadata": {
    "execution": {
     "iopub.execute_input": "2023-01-10T18:30:55.489006Z",
     "iopub.status.busy": "2023-01-10T18:30:55.488731Z",
     "iopub.status.idle": "2023-01-10T18:31:02.654816Z",
     "shell.execute_reply": "2023-01-10T18:31:02.654095Z",
     "shell.execute_reply.started": "2023-01-10T18:30:55.488985Z"
    },
    "tags": []
   },
   "outputs": [
    {
     "name": "stdout",
     "output_type": "stream",
     "text": [
      "/mnt/speliotes-lab/Projects/UK_ATLAS/IndivProj/craut/UKB_500K_exome_QC/chr1_b0-95/output/ukb23157_c1_b76_v1.ouput\n",
      "/mnt/speliotes-lab/Projects/UK_ATLAS/IndivProj/craut/UKB_500K_exome_QC/chr1_b0-95/output/ukb23157_c1_b61_v1.ouput\n",
      "/mnt/speliotes-lab/Projects/UK_ATLAS/IndivProj/craut/UKB_500K_exome_QC/chr1_b0-95/output/ukb23157_c1_b90_v1.ouput\n",
      "/mnt/speliotes-lab/Projects/UK_ATLAS/IndivProj/craut/UKB_500K_exome_QC/chr1_b0-95/output/ukb23157_c1_b9_v1.ouput\n",
      "/mnt/speliotes-lab/Projects/UK_ATLAS/IndivProj/craut/UKB_500K_exome_QC/chr1_b0-95/output/ukb23157_c1_b5_v1.ouput\n",
      "/mnt/speliotes-lab/Projects/UK_ATLAS/IndivProj/craut/UKB_500K_exome_QC/chr1_b0-95/output/ukb23157_c1_b27_v1.ouput\n",
      "/mnt/speliotes-lab/Projects/UK_ATLAS/IndivProj/craut/UKB_500K_exome_QC/chr1_b0-95/output/ukb23157_c1_b59_v1.ouput\n",
      "/mnt/speliotes-lab/Projects/UK_ATLAS/IndivProj/craut/UKB_500K_exome_QC/chr1_b0-95/output/ukb23157_c1_b47_v1.ouput\n",
      "/mnt/speliotes-lab/Projects/UK_ATLAS/IndivProj/craut/UKB_500K_exome_QC/chr1_b0-95/output/ukb23157_c1_b46_v1.ouput\n",
      "/mnt/speliotes-lab/Projects/UK_ATLAS/IndivProj/craut/UKB_500K_exome_QC/chr1_b0-95/output/ukb23157_c1_b60_v1.ouput\n",
      "/mnt/speliotes-lab/Projects/UK_ATLAS/IndivProj/craut/UKB_500K_exome_QC/chr1_b0-95/output/ukb23157_c1_b40_v1.ouput\n",
      "/mnt/speliotes-lab/Projects/UK_ATLAS/IndivProj/craut/UKB_500K_exome_QC/chr1_b0-95/output/ukb23157_c1_b58_v1.ouput\n",
      "/mnt/speliotes-lab/Projects/UK_ATLAS/IndivProj/craut/UKB_500K_exome_QC/chr1_b0-95/output/ukb23157_c1_b49_v1.ouput\n",
      "/mnt/speliotes-lab/Projects/UK_ATLAS/IndivProj/craut/UKB_500K_exome_QC/chr1_b0-95/output/ukb23157_c1_b50_v1.ouput\n",
      "/mnt/speliotes-lab/Projects/UK_ATLAS/IndivProj/craut/UKB_500K_exome_QC/chr1_b0-95/output/ukb23157_c1_b15_v1.ouput\n",
      "/mnt/speliotes-lab/Projects/UK_ATLAS/IndivProj/craut/UKB_500K_exome_QC/chr1_b0-95/output/ukb23157_c1_b78_v1.ouput\n",
      "/mnt/speliotes-lab/Projects/UK_ATLAS/IndivProj/craut/UKB_500K_exome_QC/chr1_b0-95/output/ukb23157_c1_b37_v1.ouput\n",
      "/mnt/speliotes-lab/Projects/UK_ATLAS/IndivProj/craut/UKB_500K_exome_QC/chr1_b0-95/output/ukb23157_c1_b89_v1.ouput\n",
      "/mnt/speliotes-lab/Projects/UK_ATLAS/IndivProj/craut/UKB_500K_exome_QC/chr1_b0-95/output/ukb23157_c1_b20_v1.ouput\n",
      "/mnt/speliotes-lab/Projects/UK_ATLAS/IndivProj/craut/UKB_500K_exome_QC/chr1_b0-95/output/ukb23157_c1_b83_v1.ouput\n",
      "/mnt/speliotes-lab/Projects/UK_ATLAS/IndivProj/craut/UKB_500K_exome_QC/chr1_b0-95/output/ukb23157_c1_b23_v1.ouput\n",
      "/mnt/speliotes-lab/Projects/UK_ATLAS/IndivProj/craut/UKB_500K_exome_QC/chr1_b0-95/output/ukb23157_c1_b21_v1.ouput\n",
      "/mnt/speliotes-lab/Projects/UK_ATLAS/IndivProj/craut/UKB_500K_exome_QC/chr1_b0-95/output/ukb23157_c1_b64_v1.ouput\n",
      "/mnt/speliotes-lab/Projects/UK_ATLAS/IndivProj/craut/UKB_500K_exome_QC/chr1_b0-95/output/ukb23157_c1_b38_v1.ouput\n",
      "/mnt/speliotes-lab/Projects/UK_ATLAS/IndivProj/craut/UKB_500K_exome_QC/chr1_b0-95/output/ukb23157_c1_b33_v1.ouput\n",
      "/mnt/speliotes-lab/Projects/UK_ATLAS/IndivProj/craut/UKB_500K_exome_QC/chr1_b0-95/output/ukb23157_c1_b28_v1.ouput\n",
      "/mnt/speliotes-lab/Projects/UK_ATLAS/IndivProj/craut/UKB_500K_exome_QC/chr1_b0-95/output/ukb23157_c1_b74_v1.ouput\n",
      "/mnt/speliotes-lab/Projects/UK_ATLAS/IndivProj/craut/UKB_500K_exome_QC/chr1_b0-95/output/ukb23157_c1_b36_v1.ouput\n",
      "/mnt/speliotes-lab/Projects/UK_ATLAS/IndivProj/craut/UKB_500K_exome_QC/chr1_b0-95/output/ukb23157_c1_b82_v1.ouput\n",
      "/mnt/speliotes-lab/Projects/UK_ATLAS/IndivProj/craut/UKB_500K_exome_QC/chr1_b0-95/output/ukb23157_c1_b18_v1.ouput\n",
      "/mnt/speliotes-lab/Projects/UK_ATLAS/IndivProj/craut/UKB_500K_exome_QC/chr1_b0-95/output/ukb23157_c1_b92_v1.ouput\n",
      "/mnt/speliotes-lab/Projects/UK_ATLAS/IndivProj/craut/UKB_500K_exome_QC/chr1_b0-95/output/ukb23157_c1_b85_v1.ouput\n",
      "/mnt/speliotes-lab/Projects/UK_ATLAS/IndivProj/craut/UKB_500K_exome_QC/chr1_b0-95/output/ukb23157_c1_b1_v1.ouput\n",
      "/mnt/speliotes-lab/Projects/UK_ATLAS/IndivProj/craut/UKB_500K_exome_QC/chr1_b0-95/output/ukb23157_c1_b53_v1.ouput\n",
      "/mnt/speliotes-lab/Projects/UK_ATLAS/IndivProj/craut/UKB_500K_exome_QC/chr1_b0-95/output/ukb23157_c1_b35_v1.ouput\n",
      "/mnt/speliotes-lab/Projects/UK_ATLAS/IndivProj/craut/UKB_500K_exome_QC/chr1_b0-95/output/ukb23157_c1_b81_v1.ouput\n",
      "/mnt/speliotes-lab/Projects/UK_ATLAS/IndivProj/craut/UKB_500K_exome_QC/chr1_b0-95/output/ukb23157_c1_b17_v1.ouput\n",
      "/mnt/speliotes-lab/Projects/UK_ATLAS/IndivProj/craut/UKB_500K_exome_QC/chr1_b0-95/output/ukb23157_c1_b94_v1.ouput\n",
      "/mnt/speliotes-lab/Projects/UK_ATLAS/IndivProj/craut/UKB_500K_exome_QC/chr1_b0-95/output/ukb23157_c1_b30_v1.ouput\n",
      "/mnt/speliotes-lab/Projects/UK_ATLAS/IndivProj/craut/UKB_500K_exome_QC/chr1_b0-95/output/ukb23157_c1_b34_v1.ouput\n",
      "/mnt/speliotes-lab/Projects/UK_ATLAS/IndivProj/craut/UKB_500K_exome_QC/chr1_b0-95/output/ukb23157_c1_b84_v1.ouput\n",
      "/mnt/speliotes-lab/Projects/UK_ATLAS/IndivProj/craut/UKB_500K_exome_QC/chr1_b0-95/output/ukb23157_c1_b62_v1.ouput\n",
      "/mnt/speliotes-lab/Projects/UK_ATLAS/IndivProj/craut/UKB_500K_exome_QC/chr1_b0-95/output/ukb23157_c1_b69_v1.ouput\n",
      "/mnt/speliotes-lab/Projects/UK_ATLAS/IndivProj/craut/UKB_500K_exome_QC/chr1_b0-95/output/ukb23157_c1_b88_v1.ouput\n",
      "/mnt/speliotes-lab/Projects/UK_ATLAS/IndivProj/craut/UKB_500K_exome_QC/chr1_b0-95/output/ukb23157_c1_b79_v1.ouput\n",
      "/mnt/speliotes-lab/Projects/UK_ATLAS/IndivProj/craut/UKB_500K_exome_QC/chr1_b0-95/output/ukb23157_c1_b11_v1.ouput\n",
      "/mnt/speliotes-lab/Projects/UK_ATLAS/IndivProj/craut/UKB_500K_exome_QC/chr1_b0-95/output/ukb23157_c1_b19_v1.ouput\n",
      "/mnt/speliotes-lab/Projects/UK_ATLAS/IndivProj/craut/UKB_500K_exome_QC/chr1_b0-95/output/ukb23157_c1_b52_v1.ouput\n",
      "/mnt/speliotes-lab/Projects/UK_ATLAS/IndivProj/craut/UKB_500K_exome_QC/chr1_b0-95/output/ukb23157_c1_b77_v1.ouput\n",
      "/mnt/speliotes-lab/Projects/UK_ATLAS/IndivProj/craut/UKB_500K_exome_QC/chr1_b0-95/output/ukb23157_c1_b24_v1.ouput\n",
      "/mnt/speliotes-lab/Projects/UK_ATLAS/IndivProj/craut/UKB_500K_exome_QC/chr1_b0-95/output/ukb23157_c1_b70_v1.ouput\n",
      "/mnt/speliotes-lab/Projects/UK_ATLAS/IndivProj/craut/UKB_500K_exome_QC/chr1_b0-95/output/ukb23157_c1_b68_v1.ouput\n",
      "/mnt/speliotes-lab/Projects/UK_ATLAS/IndivProj/craut/UKB_500K_exome_QC/chr1_b0-95/output/ukb23157_c1_b48_v1.ouput\n",
      "/mnt/speliotes-lab/Projects/UK_ATLAS/IndivProj/craut/UKB_500K_exome_QC/chr1_b0-95/output/ukb23157_c1_b57_v1.ouput\n",
      "/mnt/speliotes-lab/Projects/UK_ATLAS/IndivProj/craut/UKB_500K_exome_QC/chr1_b0-95/output/ukb23157_c1_b56_v1.ouput\n",
      "/mnt/speliotes-lab/Projects/UK_ATLAS/IndivProj/craut/UKB_500K_exome_QC/chr1_b0-95/output/ukb23157_c1_b73_v1.ouput\n",
      "/mnt/speliotes-lab/Projects/UK_ATLAS/IndivProj/craut/UKB_500K_exome_QC/chr1_b0-95/output/ukb23157_c1_b66_v1.ouput\n",
      "/mnt/speliotes-lab/Projects/UK_ATLAS/IndivProj/craut/UKB_500K_exome_QC/chr1_b0-95/output/ukb23157_c1_b87_v1.ouput\n",
      "/mnt/speliotes-lab/Projects/UK_ATLAS/IndivProj/craut/UKB_500K_exome_QC/chr1_b0-95/output/ukb23157_c1_b10_v1.ouput\n",
      "/mnt/speliotes-lab/Projects/UK_ATLAS/IndivProj/craut/UKB_500K_exome_QC/chr1_b0-95/output/ukb23157_c1_b43_v1.ouput\n",
      "/mnt/speliotes-lab/Projects/UK_ATLAS/IndivProj/craut/UKB_500K_exome_QC/chr1_b0-95/output/ukb23157_c1_b55_v1.ouput\n",
      "/mnt/speliotes-lab/Projects/UK_ATLAS/IndivProj/craut/UKB_500K_exome_QC/chr1_b0-95/output/ukb23157_c1_b54_v1.ouput\n",
      "/mnt/speliotes-lab/Projects/UK_ATLAS/IndivProj/craut/UKB_500K_exome_QC/chr1_b0-95/output/ukb23157_c1_b16_v1.ouput\n",
      "/mnt/speliotes-lab/Projects/UK_ATLAS/IndivProj/craut/UKB_500K_exome_QC/chr1_b0-95/output/ukb23157_c1_b26_v1.ouput\n",
      "/mnt/speliotes-lab/Projects/UK_ATLAS/IndivProj/craut/UKB_500K_exome_QC/chr1_b0-95/output/ukb23157_c1_b86_v1.ouput\n",
      "/mnt/speliotes-lab/Projects/UK_ATLAS/IndivProj/craut/UKB_500K_exome_QC/chr1_b0-95/output/ukb23157_c1_b29_v1.ouput\n",
      "/mnt/speliotes-lab/Projects/UK_ATLAS/IndivProj/craut/UKB_500K_exome_QC/chr1_b0-95/output/ukb23157_c1_b41_v1.ouput\n",
      "/mnt/speliotes-lab/Projects/UK_ATLAS/IndivProj/craut/UKB_500K_exome_QC/chr1_b0-95/output/ukb23157_c1_b72_v1.ouput\n",
      "/mnt/speliotes-lab/Projects/UK_ATLAS/IndivProj/craut/UKB_500K_exome_QC/chr1_b0-95/output/ukb23157_c1_b3_v1.ouput\n",
      "/mnt/speliotes-lab/Projects/UK_ATLAS/IndivProj/craut/UKB_500K_exome_QC/chr1_b0-95/output/ukb23157_c1_b31_v1.ouput\n",
      "/mnt/speliotes-lab/Projects/UK_ATLAS/IndivProj/craut/UKB_500K_exome_QC/chr1_b0-95/output/ukb23157_c1_b95_v1.ouput\n",
      "/mnt/speliotes-lab/Projects/UK_ATLAS/IndivProj/craut/UKB_500K_exome_QC/chr1_b0-95/output/ukb23157_c1_b63_v1.ouput\n",
      "/mnt/speliotes-lab/Projects/UK_ATLAS/IndivProj/craut/UKB_500K_exome_QC/chr1_b0-95/output/ukb23157_c1_b2_v1.ouput\n",
      "/mnt/speliotes-lab/Projects/UK_ATLAS/IndivProj/craut/UKB_500K_exome_QC/chr1_b0-95/output/ukb23157_c1_b13_v1.ouput\n",
      "/mnt/speliotes-lab/Projects/UK_ATLAS/IndivProj/craut/UKB_500K_exome_QC/chr1_b0-95/output/ukb23157_c1_b51_v1.ouput\n",
      "/mnt/speliotes-lab/Projects/UK_ATLAS/IndivProj/craut/UKB_500K_exome_QC/chr1_b0-95/output/ukb23157_c1_b91_v1.ouput\n",
      "/mnt/speliotes-lab/Projects/UK_ATLAS/IndivProj/craut/UKB_500K_exome_QC/chr1_b0-95/output/ukb23157_c1_b32_v1.ouput\n",
      "/mnt/speliotes-lab/Projects/UK_ATLAS/IndivProj/craut/UKB_500K_exome_QC/chr1_b0-95/output/ukb23157_c1_b71_v1.ouput\n",
      "/mnt/speliotes-lab/Projects/UK_ATLAS/IndivProj/craut/UKB_500K_exome_QC/chr1_b0-95/output/ukb23157_c1_b75_v1.ouput\n",
      "/mnt/speliotes-lab/Projects/UK_ATLAS/IndivProj/craut/UKB_500K_exome_QC/chr1_b0-95/output/ukb23157_c1_b67_v1.ouput\n",
      "/mnt/speliotes-lab/Projects/UK_ATLAS/IndivProj/craut/UKB_500K_exome_QC/chr1_b0-95/output/ukb23157_c1_b4_v1.ouput\n",
      "/mnt/speliotes-lab/Projects/UK_ATLAS/IndivProj/craut/UKB_500K_exome_QC/chr1_b0-95/output/ukb23157_c1_b12_v1.ouput\n",
      "/mnt/speliotes-lab/Projects/UK_ATLAS/IndivProj/craut/UKB_500K_exome_QC/chr1_b0-95/output/ukb23157_c1_b0_v1.ouput\n",
      "/mnt/speliotes-lab/Projects/UK_ATLAS/IndivProj/craut/UKB_500K_exome_QC/chr1_b0-95/output/ukb23157_c1_b42_v1.ouput\n",
      "/mnt/speliotes-lab/Projects/UK_ATLAS/IndivProj/craut/UKB_500K_exome_QC/chr1_b0-95/output/ukb23157_c1_b93_v1.ouput\n",
      "/mnt/speliotes-lab/Projects/UK_ATLAS/IndivProj/craut/UKB_500K_exome_QC/chr1_b0-95/output/ukb23157_c1_b80_v1.ouput\n",
      "/mnt/speliotes-lab/Projects/UK_ATLAS/IndivProj/craut/UKB_500K_exome_QC/chr1_b0-95/output/ukb23157_c1_b44_v1.ouput\n",
      "/mnt/speliotes-lab/Projects/UK_ATLAS/IndivProj/craut/UKB_500K_exome_QC/chr1_b0-95/output/ukb23157_c1_b25_v1.ouput\n",
      "/mnt/speliotes-lab/Projects/UK_ATLAS/IndivProj/craut/UKB_500K_exome_QC/chr1_b0-95/output/ukb23157_c1_b65_v1.ouput\n",
      "/mnt/speliotes-lab/Projects/UK_ATLAS/IndivProj/craut/UKB_500K_exome_QC/chr1_b0-95/output/ukb23157_c1_b39_v1.ouput\n",
      "/mnt/speliotes-lab/Projects/UK_ATLAS/IndivProj/craut/UKB_500K_exome_QC/chr1_b0-95/output/ukb23157_c1_b8_v1.ouput\n",
      "/mnt/speliotes-lab/Projects/UK_ATLAS/IndivProj/craut/UKB_500K_exome_QC/chr1_b0-95/output/ukb23157_c1_b6_v1.ouput\n",
      "/mnt/speliotes-lab/Projects/UK_ATLAS/IndivProj/craut/UKB_500K_exome_QC/chr1_b0-95/output/ukb23157_c1_b45_v1.ouput\n",
      "/mnt/speliotes-lab/Projects/UK_ATLAS/IndivProj/craut/UKB_500K_exome_QC/chr1_b0-95/output/ukb23157_c1_b7_v1.ouput\n",
      "/mnt/speliotes-lab/Projects/UK_ATLAS/IndivProj/craut/UKB_500K_exome_QC/chr1_b0-95/output/ukb23157_c1_b14_v1.ouput\n",
      "/mnt/speliotes-lab/Projects/UK_ATLAS/IndivProj/craut/UKB_500K_exome_QC/chr1_b0-95/output/ukb23157_c1_b22_v1.ouput\n",
      "(2678597, 5)\n"
     ]
    },
    {
     "data": {
      "text/html": [
       "<div>\n",
       "<style scoped>\n",
       "    .dataframe tbody tr th:only-of-type {\n",
       "        vertical-align: middle;\n",
       "    }\n",
       "\n",
       "    .dataframe tbody tr th {\n",
       "        vertical-align: top;\n",
       "    }\n",
       "\n",
       "    .dataframe thead th {\n",
       "        text-align: right;\n",
       "    }\n",
       "</style>\n",
       "<table border=\"1\" class=\"dataframe\">\n",
       "  <thead>\n",
       "    <tr style=\"text-align: right;\">\n",
       "      <th></th>\n",
       "      <th>snpid</th>\n",
       "      <th>avg_rd</th>\n",
       "      <th>rd_25</th>\n",
       "      <th>min_rd</th>\n",
       "      <th>ab</th>\n",
       "    </tr>\n",
       "  </thead>\n",
       "  <tbody>\n",
       "    <tr>\n",
       "      <th>0</th>\n",
       "      <td>chr1_193138000_T_C</td>\n",
       "      <td>7.204891</td>\n",
       "      <td>5.0</td>\n",
       "      <td>0.0</td>\n",
       "      <td>0.500000</td>\n",
       "    </tr>\n",
       "    <tr>\n",
       "      <th>1</th>\n",
       "      <td>chr1_193138001_G_A</td>\n",
       "      <td>7.350802</td>\n",
       "      <td>5.0</td>\n",
       "      <td>0.0</td>\n",
       "      <td>0.222222</td>\n",
       "    </tr>\n",
       "    <tr>\n",
       "      <th>2</th>\n",
       "      <td>chr1_193138006_G_A</td>\n",
       "      <td>8.338117</td>\n",
       "      <td>6.0</td>\n",
       "      <td>0.0</td>\n",
       "      <td>0.500000</td>\n",
       "    </tr>\n",
       "    <tr>\n",
       "      <th>3</th>\n",
       "      <td>chr1_193138010_A_G</td>\n",
       "      <td>8.529950</td>\n",
       "      <td>6.0</td>\n",
       "      <td>0.0</td>\n",
       "      <td>0.833333</td>\n",
       "    </tr>\n",
       "    <tr>\n",
       "      <th>4</th>\n",
       "      <td>chr1_193138016_C_T</td>\n",
       "      <td>8.900486</td>\n",
       "      <td>7.0</td>\n",
       "      <td>0.0</td>\n",
       "      <td>0.222222</td>\n",
       "    </tr>\n",
       "  </tbody>\n",
       "</table>\n",
       "</div>"
      ],
      "text/plain": [
       "                snpid    avg_rd  rd_25  min_rd        ab\n",
       "0  chr1_193138000_T_C  7.204891    5.0     0.0  0.500000\n",
       "1  chr1_193138001_G_A  7.350802    5.0     0.0  0.222222\n",
       "2  chr1_193138006_G_A  8.338117    6.0     0.0  0.500000\n",
       "3  chr1_193138010_A_G  8.529950    6.0     0.0  0.833333\n",
       "4  chr1_193138016_C_T  8.900486    7.0     0.0  0.222222"
      ]
     },
     "execution_count": 58,
     "metadata": {},
     "output_type": "execute_result"
    }
   ],
   "source": [
    "old_chr1_data_list = []\n",
    "for fname in glob(\"{}chr1_b0-95/output/\".format(DATA_OUT) + \"*\"):\n",
    "    print(fname)\n",
    "    with open(fname, \"r\") as f:\n",
    "        for line in f:\n",
    "            line = line.strip().split()\n",
    "            old_chr1_data_list.append({\"snpid\":line[0],\n",
    "                                  \"avg_rd\":float(line[1]),\n",
    "                                  \"rd_25\":float(line[2]),\n",
    "                                  \"min_rd\":float(line[3]),\n",
    "                                  \"ab\":float(line[4])})\n",
    "old_chr1_data_df = pd.DataFrame(old_chr1_data_list)\n",
    "print(old_chr1_data_df.shape)\n",
    "old_chr1_data_df.head()"
   ]
  },
  {
   "cell_type": "code",
   "execution_count": 59,
   "id": "5f0a75e5-424f-4e48-8940-586f6e20a856",
   "metadata": {
    "execution": {
     "iopub.execute_input": "2023-01-10T18:32:12.239002Z",
     "iopub.status.busy": "2023-01-10T18:32:12.238633Z",
     "iopub.status.idle": "2023-01-10T18:32:13.826491Z",
     "shell.execute_reply": "2023-01-10T18:32:13.825851Z",
     "shell.execute_reply.started": "2023-01-10T18:32:12.238979Z"
    },
    "tags": []
   },
   "outputs": [
    {
     "name": "stdout",
     "output_type": "stream",
     "text": [
      "1134919 2678597 0.4236990484197511\n"
     ]
    }
   ],
   "source": [
    "# min_read_depth\n",
    "indel_mask = np.array([bool(snp[-2] != \"_\" or snp[-4] != \"_\") for snp in old_chr1_data_df.snpid])\n",
    "rd_mask = np.array([rd >= (10 if indel else 7) for indel,rd in zip(indel_mask,old_chr1_data_df.min_rd)])\n",
    "ab_mask = np.array([ab >= (0.2 if indel else 0.15) for indel,ab in zip(indel_mask,old_chr1_data_df.ab)])\n",
    "chr1_min_mask = rd_mask & ab_mask\n",
    "print(np.sum(chr1_min_mask),len(chr1_min_mask),np.sum(chr1_min_mask)/len(chr1_min_mask))"
   ]
  },
  {
   "cell_type": "code",
   "execution_count": 61,
   "id": "b0e23e8b-3704-442d-ab9a-f21170b9af10",
   "metadata": {
    "execution": {
     "iopub.execute_input": "2023-01-10T18:33:21.897338Z",
     "iopub.status.busy": "2023-01-10T18:33:21.897072Z",
     "iopub.status.idle": "2023-01-10T18:33:23.695758Z",
     "shell.execute_reply": "2023-01-10T18:33:23.695170Z",
     "shell.execute_reply.started": "2023-01-10T18:33:21.897317Z"
    },
    "tags": []
   },
   "outputs": [
    {
     "name": "stdout",
     "output_type": "stream",
     "text": [
      "2615755 2678597 0.9765392106390024\n"
     ]
    }
   ],
   "source": [
    "# avg_read_depth\n",
    "indel_mask = np.array([bool(snp[-2] != \"_\" or snp[-4] != \"_\") for snp in old_chr1_data_df.snpid])\n",
    "rd_mask = np.array([rd >= (10 if indel else 7) for indel,rd in zip(indel_mask,old_chr1_data_df.avg_rd)])\n",
    "ab_mask = np.array([ab >= (0.2 if indel else 0.15) for indel,ab in zip(indel_mask,old_chr1_data_df.ab)])\n",
    "chr1_avg_mask = rd_mask & ab_mask\n",
    "print(np.sum(chr1_avg_mask),len(chr1_avg_mask),np.sum(chr1_avg_mask)/len(chr1_avg_mask))"
   ]
  },
  {
   "cell_type": "code",
   "execution_count": 63,
   "id": "68e7445d-3f86-4f2c-9f2b-c61c60772e86",
   "metadata": {
    "execution": {
     "iopub.execute_input": "2023-01-10T18:34:11.429190Z",
     "iopub.status.busy": "2023-01-10T18:34:11.428860Z",
     "iopub.status.idle": "2023-01-10T18:34:13.034345Z",
     "shell.execute_reply": "2023-01-10T18:34:13.033767Z",
     "shell.execute_reply.started": "2023-01-10T18:34:11.429167Z"
    },
    "tags": []
   },
   "outputs": [
    {
     "name": "stdout",
     "output_type": "stream",
     "text": [
      "2532480 2678597 0.9454501741023379\n"
     ]
    }
   ],
   "source": [
    "# 25pct_read_depth\n",
    "indel_mask = np.array([bool(snp[-2] != \"_\" or snp[-4] != \"_\") for snp in old_chr1_data_df.snpid])\n",
    "rd_mask = np.array([rd >= (10 if indel else 7) for indel,rd in zip(indel_mask,old_chr1_data_df.rd_25)])\n",
    "ab_mask = np.array([ab >= (0.2 if indel else 0.15) for indel,ab in zip(indel_mask,old_chr1_data_df.ab)])\n",
    "chr1_rd25_mask = rd_mask & ab_mask\n",
    "print(np.sum(chr1_rd25_mask),len(chr1_rd25_mask),np.sum(chr1_rd25_mask)/len(chr1_rd25_mask))"
   ]
  }
 ],
 "metadata": {
  "kernelspec": {
   "display_name": "Python 3 (ipykernel)",
   "language": "python",
   "name": "python3"
  },
  "language_info": {
   "codemirror_mode": {
    "name": "ipython",
    "version": 3
   },
   "file_extension": ".py",
   "mimetype": "text/x-python",
   "name": "python",
   "nbconvert_exporter": "python",
   "pygments_lexer": "ipython3",
   "version": "3.9.13"
  }
 },
 "nbformat": 4,
 "nbformat_minor": 5
}
