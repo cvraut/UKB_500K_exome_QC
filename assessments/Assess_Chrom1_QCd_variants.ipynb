{
 "cells": [
  {
   "cell_type": "markdown",
   "id": "9c5599b1-c4d1-4fe0-9ad0-707a08e7cb29",
   "metadata": {},
   "source": [
    "# Assess the Chrom 1 QC'd variants"
   ]
  },
  {
   "cell_type": "markdown",
   "id": "aa3b202e-eed2-46ea-b62b-e234f4d14587",
   "metadata": {},
   "source": [
    "So the QC analysis has been run and completed on a majority of the variants from chromosome 1.\n",
    "\n",
    "What I am concerned with is the quantile threshold and how to interpret the Depth cutoff. Previously it was stated to use a depth cutoff of 7 for SNPs and 10 for InDels.\n",
    "\n",
    "I don't know if this means to ignore specific measurements of read depth less than the cutoff or to use average read depth to assess inclusion of the variant.\n",
    "\n",
    "I have a list of ~16 million variants which passed the 200k QC, but there is no guarantee that they will pass the 500k QC"
   ]
  }
 ],
 "metadata": {
  "kernelspec": {
   "display_name": "Python 3 (ipykernel)",
   "language": "python",
   "name": "python3"
  },
  "language_info": {
   "codemirror_mode": {
    "name": "ipython",
    "version": 3
   },
   "file_extension": ".py",
   "mimetype": "text/x-python",
   "name": "python",
   "nbconvert_exporter": "python",
   "pygments_lexer": "ipython3",
   "version": "3.9.13"
  }
 },
 "nbformat": 4,
 "nbformat_minor": 5
}
